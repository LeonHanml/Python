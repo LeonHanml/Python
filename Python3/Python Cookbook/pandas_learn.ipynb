{
 "cells": [
  {
   "cell_type": "code",
   "execution_count": 4,
   "metadata": {
    "collapsed": true
   },
   "outputs": [
    {
     "name": "stdout",
     "output_type": "stream",
     "text": [
      "a    4\nb    7\nc   -5\nd    3\ndtype: int64\nIndex(['a', 'b', 'c', 'd'], dtype='object')\n[ 4  7 -5  3]\n7\n7\na    4\nc   -5\ndtype: int64\n"
     ]
    },
    {
     "data": {
      "text/plain": [
       "7"
      ]
     },
     "execution_count": 4,
     "metadata": {},
     "output_type": "execute_result"
    }
   ],
   "source": [
    "import pandas as pd\n",
    "from pandas import  Series,DataFrame\n",
    "obj = Series([4,7,-5,3],index=['a','b','c','d'])\n",
    "print(obj)\n",
    "print(obj.index)\n",
    "print(obj.values)\n",
    "# Series  取值类似于数组\n",
    "print(obj[1])\n",
    "print(obj['b'])\n",
    "print(obj[['a','c']])\n",
    "obj[obj>0].values[1]"
   ]
  },
  {
   "cell_type": "code",
   "execution_count": 7,
   "metadata": {},
   "outputs": [
    {
     "data": {
      "text/plain": [
       "True"
      ]
     },
     "execution_count": 7,
     "metadata": {},
     "output_type": "execute_result"
    }
   ],
   "source": [
    "'a' in obj\n",
    "7 in obj.values"
   ]
  },
  {
   "cell_type": "code",
   "execution_count": null,
   "metadata": {},
   "outputs": [],
   "source": [
    "pd.isnull()\n",
    "pd.notnull()"
   ]
  },
  {
   "cell_type": "code",
   "execution_count": 12,
   "metadata": {},
   "outputs": [
    {
     "data": {
      "text/plain": [
       "array([0, 3, 6])"
      ]
     },
     "execution_count": 12,
     "metadata": {},
     "output_type": "execute_result"
    }
   ],
   "source": [
    "import numpy as np\n",
    "df = DataFrame(np.arange(9).reshape((3,3)),columns=list('bcd'),\n",
    "               index=['O','T','C']\n",
    "               )\n",
    "df.b.values"
   ]
  },
  {
   "cell_type": "code",
   "execution_count": 9,
   "metadata": {},
   "outputs": [
    {
     "data": {
      "text/html": [
       "<div>\n",
       "<table border=\"1\" class=\"dataframe\">\n",
       "  <thead>\n",
       "    <tr style=\"text-align: right;\">\n",
       "      <th></th>\n",
       "      <th>A</th>\n",
       "      <th>B</th>\n",
       "      <th>C</th>\n",
       "      <th>D</th>\n",
       "    </tr>\n",
       "  </thead>\n",
       "  <tbody>\n",
       "    <tr>\n",
       "      <th>0</th>\n",
       "      <td>-0.363217</td>\n",
       "      <td>-0.033651</td>\n",
       "      <td>-1.264733</td>\n",
       "      <td>-0.197691</td>\n",
       "    </tr>\n",
       "    <tr>\n",
       "      <th>1</th>\n",
       "      <td>0.252123</td>\n",
       "      <td>1.142816</td>\n",
       "      <td>1.227437</td>\n",
       "      <td>0.405201</td>\n",
       "    </tr>\n",
       "    <tr>\n",
       "      <th>2</th>\n",
       "      <td>-1.296486</td>\n",
       "      <td>-0.347593</td>\n",
       "      <td>-0.226636</td>\n",
       "      <td>0.676572</td>\n",
       "    </tr>\n",
       "    <tr>\n",
       "      <th>3</th>\n",
       "      <td>-0.550238</td>\n",
       "      <td>-0.496204</td>\n",
       "      <td>1.176004</td>\n",
       "      <td>-0.365347</td>\n",
       "    </tr>\n",
       "    <tr>\n",
       "      <th>4</th>\n",
       "      <td>-0.700461</td>\n",
       "      <td>-0.309004</td>\n",
       "      <td>-0.732657</td>\n",
       "      <td>-0.001398</td>\n",
       "    </tr>\n",
       "    <tr>\n",
       "      <th>5</th>\n",
       "      <td>-0.232795</td>\n",
       "      <td>-0.426869</td>\n",
       "      <td>1.206844</td>\n",
       "      <td>-0.372725</td>\n",
       "    </tr>\n",
       "    <tr>\n",
       "      <th>6</th>\n",
       "      <td>0.800205</td>\n",
       "      <td>1.669275</td>\n",
       "      <td>-0.633948</td>\n",
       "      <td>0.124218</td>\n",
       "    </tr>\n",
       "    <tr>\n",
       "      <th>7</th>\n",
       "      <td>-1.341254</td>\n",
       "      <td>-0.790865</td>\n",
       "      <td>0.202878</td>\n",
       "      <td>-0.777620</td>\n",
       "    </tr>\n",
       "    <tr>\n",
       "      <th>8</th>\n",
       "      <td>1.246724</td>\n",
       "      <td>0.395197</td>\n",
       "      <td>-1.649035</td>\n",
       "      <td>1.586184</td>\n",
       "    </tr>\n",
       "    <tr>\n",
       "      <th>9</th>\n",
       "      <td>-1.634933</td>\n",
       "      <td>0.455317</td>\n",
       "      <td>1.185710</td>\n",
       "      <td>0.100127</td>\n",
       "    </tr>\n",
       "  </tbody>\n",
       "</table>\n",
       "</div>"
      ],
      "text/plain": [
       "<div>\n",
       "<table border=\"1\" class=\"dataframe\">\n",
       "  <thead>\n",
       "    <tr style=\"text-align: right;\">\n",
       "      <th></th>\n",
       "      <th>A</th>\n",
       "      <th>B</th>\n",
       "      <th>C</th>\n",
       "      <th>D</th>\n",
       "    </tr>\n",
       "  </thead>\n",
       "  <tbody>\n",
       "    <tr>\n",
       "      <th>0</th>\n",
       "      <td>-0.363217</td>\n",
       "      <td>-0.033651</td>\n",
       "      <td>-1.264733</td>\n",
       "      <td>-0.197691</td>\n",
       "    </tr>\n",
       "    <tr>\n",
       "      <th>1</th>\n",
       "      <td>0.252123</td>\n",
       "      <td>1.142816</td>\n",
       "      <td>1.227437</td>\n",
       "      <td>0.405201</td>\n",
       "    </tr>\n",
       "    <tr>\n",
       "      <th>2</th>\n",
       "      <td>-1.296486</td>\n",
       "      <td>-0.347593</td>\n",
       "      <td>-0.226636</td>\n",
       "      <td>0.676572</td>\n",
       "    </tr>\n",
       "    <tr>\n",
       "      <th>3</th>\n",
       "      <td>-0.550238</td>\n",
       "      <td>-0.496204</td>\n",
       "      <td>1.176004</td>\n",
       "      <td>-0.365347</td>\n",
       "    </tr>\n",
       "    <tr>\n",
       "      <th>4</th>\n",
       "      <td>-0.700461</td>\n",
       "      <td>-0.309004</td>\n",
       "      <td>-0.732657</td>\n",
       "      <td>-0.001398</td>\n",
       "    </tr>\n",
       "    <tr>\n",
       "      <th>5</th>\n",
       "      <td>-0.232795</td>\n",
       "      <td>-0.426869</td>\n",
       "      <td>1.206844</td>\n",
       "      <td>-0.372725</td>\n",
       "    </tr>\n",
       "    <tr>\n",
       "      <th>6</th>\n",
       "      <td>0.800205</td>\n",
       "      <td>1.669275</td>\n",
       "      <td>-0.633948</td>\n",
       "      <td>0.124218</td>\n",
       "    </tr>\n",
       "    <tr>\n",
       "      <th>7</th>\n",
       "      <td>-1.341254</td>\n",
       "      <td>-0.790865</td>\n",
       "      <td>0.202878</td>\n",
       "      <td>-0.777620</td>\n",
       "    </tr>\n",
       "    <tr>\n",
       "      <th>8</th>\n",
       "      <td>1.246724</td>\n",
       "      <td>0.395197</td>\n",
       "      <td>-1.649035</td>\n",
       "      <td>1.586184</td>\n",
       "    </tr>\n",
       "    <tr>\n",
       "      <th>9</th>\n",
       "      <td>-1.634933</td>\n",
       "      <td>0.455317</td>\n",
       "      <td>1.185710</td>\n",
       "      <td>0.100127</td>\n",
       "    </tr>\n",
       "  </tbody>\n",
       "</table>\n",
       "</div>"
      ]
     },
     "execution_count": 9,
     "metadata": {},
     "output_type": "execute_result"
    }
   ],
   "source": [
    "import  pandas as pd\n",
    "import  numpy as np\n",
    "df = pd.DataFrame(np.random.randn(10, 4),columns=list('ABCD'))\n",
    "df"
   ]
  },
  {
   "cell_type": "code",
   "execution_count": 11,
   "metadata": {
    "collapsed": false
   },
   "outputs": [
    {
     "data": {
      "text/html": [
       "<div>\n",
       "<table border=\"1\" class=\"dataframe\">\n",
       "  <thead>\n",
       "    <tr style=\"text-align: right;\">\n",
       "      <th></th>\n",
       "      <th>A</th>\n",
       "      <th>D</th>\n",
       "    </tr>\n",
       "  </thead>\n",
       "  <tbody>\n",
       "    <tr>\n",
       "      <th>0</th>\n",
       "      <td>-0.363217</td>\n",
       "      <td>-0.197691</td>\n",
       "    </tr>\n",
       "    <tr>\n",
       "      <th>1</th>\n",
       "      <td>0.252123</td>\n",
       "      <td>0.405201</td>\n",
       "    </tr>\n",
       "    <tr>\n",
       "      <th>2</th>\n",
       "      <td>-1.296486</td>\n",
       "      <td>0.676572</td>\n",
       "    </tr>\n",
       "    <tr>\n",
       "      <th>3</th>\n",
       "      <td>-0.550238</td>\n",
       "      <td>-0.365347</td>\n",
       "    </tr>\n",
       "    <tr>\n",
       "      <th>4</th>\n",
       "      <td>-0.700461</td>\n",
       "      <td>-0.001398</td>\n",
       "    </tr>\n",
       "    <tr>\n",
       "      <th>5</th>\n",
       "      <td>-0.232795</td>\n",
       "      <td>-0.372725</td>\n",
       "    </tr>\n",
       "    <tr>\n",
       "      <th>6</th>\n",
       "      <td>0.800205</td>\n",
       "      <td>0.124218</td>\n",
       "    </tr>\n",
       "    <tr>\n",
       "      <th>7</th>\n",
       "      <td>-1.341254</td>\n",
       "      <td>-0.777620</td>\n",
       "    </tr>\n",
       "    <tr>\n",
       "      <th>8</th>\n",
       "      <td>1.246724</td>\n",
       "      <td>1.586184</td>\n",
       "    </tr>\n",
       "    <tr>\n",
       "      <th>9</th>\n",
       "      <td>-1.634933</td>\n",
       "      <td>0.100127</td>\n",
       "    </tr>\n",
       "  </tbody>\n",
       "</table>\n",
       "</div>"
      ],
      "text/plain": [
       "<div>\n",
       "<table border=\"1\" class=\"dataframe\">\n",
       "  <thead>\n",
       "    <tr style=\"text-align: right;\">\n",
       "      <th></th>\n",
       "      <th>A</th>\n",
       "      <th>D</th>\n",
       "    </tr>\n",
       "  </thead>\n",
       "  <tbody>\n",
       "    <tr>\n",
       "      <th>0</th>\n",
       "      <td>-0.363217</td>\n",
       "      <td>-0.197691</td>\n",
       "    </tr>\n",
       "    <tr>\n",
       "      <th>1</th>\n",
       "      <td>0.252123</td>\n",
       "      <td>0.405201</td>\n",
       "    </tr>\n",
       "    <tr>\n",
       "      <th>2</th>\n",
       "      <td>-1.296486</td>\n",
       "      <td>0.676572</td>\n",
       "    </tr>\n",
       "    <tr>\n",
       "      <th>3</th>\n",
       "      <td>-0.550238</td>\n",
       "      <td>-0.365347</td>\n",
       "    </tr>\n",
       "    <tr>\n",
       "      <th>4</th>\n",
       "      <td>-0.700461</td>\n",
       "      <td>-0.001398</td>\n",
       "    </tr>\n",
       "    <tr>\n",
       "      <th>5</th>\n",
       "      <td>-0.232795</td>\n",
       "      <td>-0.372725</td>\n",
       "    </tr>\n",
       "    <tr>\n",
       "      <th>6</th>\n",
       "      <td>0.800205</td>\n",
       "      <td>0.124218</td>\n",
       "    </tr>\n",
       "    <tr>\n",
       "      <th>7</th>\n",
       "      <td>-1.341254</td>\n",
       "      <td>-0.777620</td>\n",
       "    </tr>\n",
       "    <tr>\n",
       "      <th>8</th>\n",
       "      <td>1.246724</td>\n",
       "      <td>1.586184</td>\n",
       "    </tr>\n",
       "    <tr>\n",
       "      <th>9</th>\n",
       "      <td>-1.634933</td>\n",
       "      <td>0.100127</td>\n",
       "    </tr>\n",
       "  </tbody>\n",
       "</table>\n",
       "</div>"
      ]
     },
     "execution_count": 11,
     "metadata": {},
     "output_type": "execute_result"
    }
   ],
   "source": [
    "df1 = pd.concat([df[\"A\"],df[\"D\"]],axis=1)\n",
    "df1"
   ]
  },
  {
   "cell_type": "code",
   "execution_count": 13,
   "metadata": {
    "collapsed": true
   },
   "outputs": [
    {
     "data": {
      "text/plain": [
       "2012-01-01 00:00:00    199\n2012-01-01 00:00:01     73\n2012-01-01 00:00:02    286\n2012-01-01 00:00:03    183\n2012-01-01 00:00:04     76\n2012-01-01 00:00:05    340\n2012-01-01 00:00:06    142\n2012-01-01 00:00:07     74\n2012-01-01 00:00:08    129\n2012-01-01 00:00:09     82\n2012-01-01 00:00:10    317\n2012-01-01 00:00:11     63\n2012-01-01 00:00:12     86\n2012-01-01 00:00:13    493\n2012-01-01 00:00:14    344\n2012-01-01 00:00:15    102\n2012-01-01 00:00:16    147\n2012-01-01 00:00:17    303\n2012-01-01 00:00:18    463\n2012-01-01 00:00:19    439\n2012-01-01 00:00:20    145\n2012-01-01 00:00:21     79\n2012-01-01 00:00:22    486\n2012-01-01 00:00:23    267\n2012-01-01 00:00:24    139\n2012-01-01 00:00:25    437\n2012-01-01 00:00:26    475\n2012-01-01 00:00:27    467\n2012-01-01 00:00:28    464\n2012-01-01 00:00:29    196\n                      ... \n2012-01-01 00:01:10     56\n2012-01-01 00:01:11    122\n2012-01-01 00:01:12    396\n2012-01-01 00:01:13    403\n2012-01-01 00:01:14    478\n2012-01-01 00:01:15     47\n2012-01-01 00:01:16    327\n2012-01-01 00:01:17     20\n2012-01-01 00:01:18    493\n2012-01-01 00:01:19    162\n2012-01-01 00:01:20    207\n2012-01-01 00:01:21     60\n2012-01-01 00:01:22    394\n2012-01-01 00:01:23    476\n2012-01-01 00:01:24    491\n2012-01-01 00:01:25    435\n2012-01-01 00:01:26    404\n2012-01-01 00:01:27    237\n2012-01-01 00:01:28    393\n2012-01-01 00:01:29    264\n2012-01-01 00:01:30    349\n2012-01-01 00:01:31    262\n2012-01-01 00:01:32    393\n2012-01-01 00:01:33    281\n2012-01-01 00:01:34    169\n2012-01-01 00:01:35     21\n2012-01-01 00:01:36    142\n2012-01-01 00:01:37    163\n2012-01-01 00:01:38    167\n2012-01-01 00:01:39    447\nFreq: S, dtype: int32"
      ]
     },
     "execution_count": 13,
     "metadata": {},
     "output_type": "execute_result"
    }
   ],
   "source": [
    "rng = pd.date_range('1/1/2012', periods=100, freq='S')\n",
    "ts = pd.Series(np.random.randint(0, 500, len(rng)), index=rng)\n",
    "ts"
   ]
  },
  {
   "cell_type": "code",
   "execution_count": 19,
   "metadata": {},
   "outputs": [
    {
     "data": {
      "text/plain": [
       "-0.36321654809308757"
      ]
     },
     "execution_count": 19,
     "metadata": {},
     "output_type": "execute_result"
    }
   ],
   "source": [
    "df1.ix[0][0]"
   ]
  },
  {
   "cell_type": "code",
   "execution_count": 18,
   "metadata": {},
   "outputs": [
    {
     "name": "stdout",
     "output_type": "stream",
     "text": [
      "0\n1\n2\n"
     ]
    }
   ],
   "source": [
    "for i in range(3):\n",
    "    print(i)"
   ]
  },
  {
   "cell_type": "code",
   "execution_count": 20,
   "metadata": {},
   "outputs": [
    {
     "data": {
      "text/plain": [
       "slice(3, 6, None)"
      ]
     },
     "execution_count": 20,
     "metadata": {},
     "output_type": "execute_result"
    }
   ],
   "source": [
    "a = slice(3,6)\n",
    "a"
   ]
  },
  {
   "cell_type": "code",
   "execution_count": 21,
   "metadata": {},
   "outputs": [
    {
     "data": {
      "text/plain": [
       "3"
      ]
     },
     "execution_count": 21,
     "metadata": {},
     "output_type": "execute_result"
    }
   ],
   "source": [
    "a.start"
   ]
  },
  {
   "cell_type": "code",
   "execution_count": null,
   "metadata": {},
   "outputs": [],
   "source": [
    ""
   ]
  }
 ],
 "metadata": {
  "kernelspec": {
   "display_name": "Python 2",
   "language": "python",
   "name": "python2"
  },
  "language_info": {
   "codemirror_mode": {
    "name": "ipython",
    "version": 2.0
   },
   "file_extension": ".py",
   "mimetype": "text/x-python",
   "name": "python",
   "nbconvert_exporter": "python",
   "pygments_lexer": "ipython2",
   "version": "2.7.6"
  }
 },
 "nbformat": 4,
 "nbformat_minor": 0
}