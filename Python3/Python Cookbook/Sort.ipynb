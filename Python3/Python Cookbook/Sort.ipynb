{
 "cells": [
  {
   "cell_type": "code",
   "execution_count": 24,
   "metadata": {
    "collapsed": true
   },
   "outputs": [
    {
     "name": "stdout",
     "output_type": "stream",
     "text": [
      "[5, 7, 9, 3, 1, 2, 4, 6, 8]----left:0--5  right:0--8  key5\n[4, 7, 9, 3, 1, 2, 4, 6, 8]==left:0--4  right:0--4  key5\n[4, 7, 9, 3, 1, 2, 7, 6, 8]  left:1--7  right:1--7  key5\n[4, 2, 9, 3, 1, 2, 7, 6, 8]==left:1--2  right:1--2  key5\n[4, 2, 9, 3, 1, 9, 7, 6, 8]  left:2--9  right:2--9  key5\n[4, 2, 1, 3, 1, 9, 7, 6, 8]==left:2--1  right:2--1  key5\n[4, 2, 1, 3, 1, 9, 7, 6, 8]  left:4--1  right:4--1  key5\n[4, 2, 1, 3, 5, 9, 7, 6, 8]----left:0--4  right:0--3  key4\n[3, 2, 1, 3, 5, 9, 7, 6, 8]==left:0--3  right:0--3  key4\n[3, 2, 1, 3, 5, 9, 7, 6, 8]  left:3--3  right:3--3  key4\n[3, 2, 1, 4, 5, 9, 7, 6, 8]----left:0--3  right:0--1  key3\n[1, 2, 1, 4, 5, 9, 7, 6, 8]==left:0--1  right:0--1  key3\n[1, 2, 1, 4, 5, 9, 7, 6, 8]  left:2--1  right:2--1  key3\n[1, 2, 3, 4, 5, 9, 7, 6, 8]----left:0--1  right:0--2  key1\n[1, 2, 3, 4, 5, 9, 7, 6, 8]==left:0--1  right:0--1  key1\n[1, 2, 3, 4, 5, 9, 7, 6, 8]  left:0--1  right:0--1  key1\n[1, 2, 3, 4, 5, 9, 7, 6, 8]----left:1--2  right:1--2  key2\n[1, 2, 3, 4, 5, 9, 7, 6, 8]----left:5--9  right:5--8  key9\n[1, 2, 3, 4, 5, 8, 7, 6, 8]==left:5--8  right:5--8  key9\n[1, 2, 3, 4, 5, 8, 7, 6, 8]  left:8--8  right:8--8  key9\n[1, 2, 3, 4, 5, 8, 7, 6, 9]----left:5--8  right:5--6  key8\n[1, 2, 3, 4, 5, 6, 7, 6, 9]==left:5--6  right:5--6  key8\n[1, 2, 3, 4, 5, 6, 7, 6, 9]  left:7--6  right:7--6  key8\n[1, 2, 3, 4, 5, 6, 7, 8, 9]----left:5--6  right:5--7  key6\n[1, 2, 3, 4, 5, 6, 7, 8, 9]==left:5--6  right:5--6  key6\n[1, 2, 3, 4, 5, 6, 7, 8, 9]  left:5--6  right:5--6  key6\n[1, 2, 3, 4, 5, 6, 7, 8, 9]----left:6--7  right:6--7  key7\n[1, 2, 3, 4, 5, 6, 7, 8, 9]\n"
     ]
    }
   ],
   "source": [
    "def quick_sort(list,left,right):\n",
    "    if left > right :\n",
    "        return list\n",
    "    if list is None:\n",
    "        return list\n",
    "    key = list[left]\n",
    "    low = left\n",
    "    high = right\n",
    "    print(str(list) + \"----left:\"+str(left)+\"--\"+str(list[left])+ \"  right:\"+str(left)+\"--\"+str(list[right])+\"  key\"+str(key))\n",
    "    while left < right:\n",
    "        while left < right and list[right] >= key:\n",
    "            right -= 1\n",
    "            # print(\"right:\"+right)\n",
    "        list[left] = list[right]\n",
    "        print(str(list) + \"==left:\"+str(left)+\"--\"+str(list[left])+ \"  right:\"+str(left)+\"--\"+str(list[right])+\"  key\"+str(key))\n",
    "        while left < right and list[left] <= key:\n",
    "            left += 1\n",
    "        list[right] = list[left]\n",
    "        print(str(list) + \"  left:\"+str(left)+\"--\"+str(list[left])+ \"  right:\"+str(left)+\"--\"+str(list[right])+\"  key\"+str(key))\n",
    "    list[right] = key \n",
    "    \n",
    "    quick_sort(list,low,left-1)\n",
    "    quick_sort(list,left+1, high)\n",
    "    return  list\n",
    "\n",
    "\n",
    "list = [5,8,7,6,9,4,3,2,1]\n",
    "list2 = [5,7,9,3,1,2,4,6,8]\n",
    "list = quick_sort(list2,0,len(list)-1)\n",
    "print(list)"
   ]
  },
  {
   "cell_type": "code",
   "execution_count": 25,
   "metadata": {},
   "outputs": [
    {
     "data": {
      "text/plain": [
       "[9, 8, 7, 6, 5, 4, 3, 2, 1]"
      ]
     },
     "execution_count": 25,
     "metadata": {},
     "output_type": "execute_result"
    }
   ],
   "source": [
    "list[::-1]"
   ]
  },
  {
   "cell_type": "code",
   "execution_count": 27,
   "metadata": {},
   "outputs": [
    {
     "name": "stdout",
     "output_type": "stream",
     "text": [
      "range(9, -1, -1)\n"
     ]
    }
   ],
   "source": [
    "print(range(0,10)[::-1])"
   ]
  },
  {
   "cell_type": "code",
   "execution_count": 29,
   "metadata": {},
   "outputs": [
    {
     "name": "stdout",
     "output_type": "stream",
     "text": [
      "9\n8\n7\n6\n5\n4\n3\n2\n1\n0\n"
     ]
    }
   ],
   "source": [
    "for i in range(0,10)[::-1]:\n",
    "    print(i)"
   ]
  },
  {
   "cell_type": "code",
   "execution_count": 56,
   "metadata": {},
   "outputs": [
    {
     "ename": "TypeError",
     "evalue": "'list' object is not callable",
     "traceback": [
      "\u001b[0;31m---------------------------------------------------------------------------\u001b[0m",
      "\u001b[0;31mTypeError\u001b[0m                                 Traceback (most recent call last)",
      "\u001b[0;32m<ipython-input-56-82138cf401a8>\u001b[0m in \u001b[0;36m<module>\u001b[0;34m()\u001b[0m\n\u001b[1;32m      9\u001b[0m \u001b[0ml\u001b[0m \u001b[1;33m=\u001b[0m \u001b[0ml\u001b[0m\u001b[1;33m[\u001b[0m\u001b[1;33m:\u001b[0m\u001b[1;33m:\u001b[0m\u001b[1;33m-\u001b[0m\u001b[1;36m1\u001b[0m\u001b[1;33m]\u001b[0m\u001b[1;33m\u001b[0m\u001b[0m\n\u001b[1;32m     10\u001b[0m \u001b[0ml\u001b[0m \u001b[1;33m=\u001b[0m \u001b[1;33m(\u001b[0m\u001b[1;33m{\u001b[0m\u001b[0mc\u001b[0m\u001b[1;33m:\u001b[0m\u001b[0mdict\u001b[0m\u001b[1;33m[\u001b[0m\u001b[0mc\u001b[0m\u001b[1;33m]\u001b[0m\u001b[1;33m}\u001b[0m \u001b[1;32mfor\u001b[0m \u001b[0mc\u001b[0m \u001b[1;32min\u001b[0m \u001b[0mdict\u001b[0m\u001b[1;33m)\u001b[0m\u001b[1;33m\u001b[0m\u001b[0m\n\u001b[0;32m---> 11\u001b[0;31m \u001b[0mprint\u001b[0m\u001b[1;33m(\u001b[0m\u001b[0mlist\u001b[0m\u001b[1;33m(\u001b[0m\u001b[0ml\u001b[0m\u001b[1;33m)\u001b[0m\u001b[1;33m)\u001b[0m\u001b[1;33m\u001b[0m\u001b[0m\n\u001b[0m",
      "\u001b[0;31mTypeError\u001b[0m: 'list' object is not callable"
     ],
     "output_type": "error"
    }
   ],
   "source": [
    "dict = {'a':'1','b':'2','c':'3'}\n",
    "# l = list(dict)\n",
    "# l\n",
    "l=[]\n",
    "# l = list((c,dict[c]) for c in dict.keys())\n",
    "for c in dict:\n",
    "    l.append({c:dict[c]})\n",
    "#     \n",
    "l = l[::-1]\n",
    "l = ({c:dict[c]} for c in dict)\n",
    "print(list(l))"
   ]
  },
  {
   "cell_type": "code",
   "execution_count": 54,
   "metadata": {},
   "outputs": [],
   "source": [
    ""
   ]
  },
  {
   "cell_type": "code",
   "execution_count": 54,
   "metadata": {},
   "outputs": [],
   "source": [
    ""
   ]
  },
  {
   "cell_type": "code",
   "execution_count": null,
   "metadata": {},
   "outputs": [],
   "source": [
    ""
   ]
  }
 ],
 "metadata": {
  "kernelspec": {
   "display_name": "Python 2",
   "language": "python",
   "name": "python2"
  },
  "language_info": {
   "codemirror_mode": {
    "name": "ipython",
    "version": 2.0
   },
   "file_extension": ".py",
   "mimetype": "text/x-python",
   "name": "python",
   "nbconvert_exporter": "python",
   "pygments_lexer": "ipython2",
   "version": "2.7.6"
  }
 },
 "nbformat": 4,
 "nbformat_minor": 0
}