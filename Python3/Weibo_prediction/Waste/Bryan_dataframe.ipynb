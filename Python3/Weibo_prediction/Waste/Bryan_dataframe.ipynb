{
 "cells": [
  {
   "cell_type": "code",
   "execution_count": 1,
   "metadata": {
    "collapsed": true
   },
   "outputs": [],
   "source": [
    "# -*- coding: utf-8 -*-\n",
    "import pandas as pd\n",
    "data_train = pd.read_table('D:\\\\www\\\\data\\\\Weibo Data\\\\Weibo Data\\\\weibo_train_data(new)\\\\weibo_train_data.txt',sep=\"\\t\",\n",
    "                           header=None,encoding='utf-8')\n",
    "#header=None:没有每列的column name，可以自己设定\n",
    "#encoding='gb2312':其他编码中文显示错误\n",
    "#delim_whitespace=True:用空格来分隔每行的数据\n",
    "#index_col=0:设置第1列数据作为index\n",
    "# data.head(1)\n",
    "# data.info()\n",
    "header = ['userId','weiboId','datetime','forward_count','comment_count','like_count','content']\n",
    "data_train.columns = header"
   ]
  },
  {
   "cell_type": "code",
   "execution_count": 23,
   "metadata": {},
   "outputs": [],
   "source": [
    "data_group_num = pd.read_table('D:\\\\www\\\\data\\\\Weibo Data\\\\Weibo Data\\\\weibo_train_data(new)\\\\groupbyall_num.txt',\n",
    "                           header=None,encoding='utf-8')"
   ]
  },
  {
   "cell_type": "code",
   "execution_count": 2,
   "metadata": {
    "collapsed": false
   },
   "outputs": [],
   "source": [
    "# data_group_num[0:20]"
   ]
  },
  {
   "cell_type": "code",
   "execution_count": 24,
   "metadata": {
    "collapsed": true
   },
   "outputs": [],
   "source": [
    "data_group_item = pd.read_table('D:\\\\www\\\\data\\\\Weibo Data\\\\Weibo Data\\\\weibo_train_data(new)\\\\groupbyall.txt',sep=\" \",\n",
    "                                header=None,encoding='utf-8')"
   ]
  },
  {
   "cell_type": "code",
   "execution_count": 1,
   "metadata": {},
   "outputs": [],
   "source": [
    "# df = pd.concat([data_group_item,data_group_num],axis=1)"
   ]
  },
  {
   "cell_type": "code",
   "execution_count": 28,
   "metadata": {},
   "outputs": [],
   "source": [
    "df.to_csv(r'D:\\\\www\\\\data\\\\Weibo Data\\\\Weibo Data\\\\weibo_train_data(new)\\\\groupbyallall.txt',sep=' ', index=False, header=False)"
   ]
  },
  {
   "cell_type": "code",
   "execution_count": 13,
   "metadata": {
    "collapsed": true
   },
   "outputs": [
    {
     "name": "stdout",
     "output_type": "stream",
     "text": [
      "fc0: 1005745\ncc0: 972026\nlc0: 917453\nfcl0: 787555\n"
     ]
    }
   ],
   "source": [
    "fc0=data_train[\"forward_count\"][data_train[\"forward_count\"] == 0].count()\n",
    "cc0=data_train[\"comment_count\"][data_train[\"comment_count\"] == 0].count()\n",
    "lc0=data_train[\"like_count\"][data_train[\"like_count\"] == 0].count()\n",
    "print(\"fc0:\",fc0)\n",
    "print(\"cc0:\",cc0)\n",
    "print(\"lc0:\",lc0)\n",
    "fcl0 = data_train[\"forward_count\"][data_train[\"forward_count\"] == 0][data_train[\"comment_count\"] == 0][data_train[\"like_count\"] == 0].count()\n",
    "print(\"fcl0:\",fcl0)"
   ]
  },
  {
   "cell_type": "code",
   "execution_count": 3,
   "metadata": {
    "collapsed": true
   },
   "outputs": [
    {
     "data": {
      "text/html": [
       "<div>\n",
       "<table border=\"1\" class=\"dataframe\">\n",
       "  <thead>\n",
       "    <tr style=\"text-align: right;\">\n",
       "      <th></th>\n",
       "      <th>forward_count</th>\n",
       "      <th>comment_count</th>\n",
       "      <th>like_count</th>\n",
       "    </tr>\n",
       "  </thead>\n",
       "  <tbody>\n",
       "    <tr>\n",
       "      <th>forward_count</th>\n",
       "      <td>1.000000</td>\n",
       "      <td>0.579497</td>\n",
       "      <td>0.554395</td>\n",
       "    </tr>\n",
       "    <tr>\n",
       "      <th>comment_count</th>\n",
       "      <td>0.579497</td>\n",
       "      <td>1.000000</td>\n",
       "      <td>0.617432</td>\n",
       "    </tr>\n",
       "    <tr>\n",
       "      <th>like_count</th>\n",
       "      <td>0.554395</td>\n",
       "      <td>0.617432</td>\n",
       "      <td>1.000000</td>\n",
       "    </tr>\n",
       "  </tbody>\n",
       "</table>\n",
       "</div>"
      ],
      "text/plain": [
       "<div>\n",
       "<table border=\"1\" class=\"dataframe\">\n",
       "  <thead>\n",
       "    <tr style=\"text-align: right;\">\n",
       "      <th></th>\n",
       "      <th>forward_count</th>\n",
       "      <th>comment_count</th>\n",
       "      <th>like_count</th>\n",
       "    </tr>\n",
       "  </thead>\n",
       "  <tbody>\n",
       "    <tr>\n",
       "      <th>forward_count</th>\n",
       "      <td>1.000000</td>\n",
       "      <td>0.579497</td>\n",
       "      <td>0.554395</td>\n",
       "    </tr>\n",
       "    <tr>\n",
       "      <th>comment_count</th>\n",
       "      <td>0.579497</td>\n",
       "      <td>1.000000</td>\n",
       "      <td>0.617432</td>\n",
       "    </tr>\n",
       "    <tr>\n",
       "      <th>like_count</th>\n",
       "      <td>0.554395</td>\n",
       "      <td>0.617432</td>\n",
       "      <td>1.000000</td>\n",
       "    </tr>\n",
       "  </tbody>\n",
       "</table>\n",
       "</div>"
      ]
     },
     "execution_count": 3,
     "metadata": {},
     "output_type": "execute_result"
    }
   ],
   "source": [
    "# cor = data_train[\"forward_count\",\"comment_count\",\"like_count\"].corr(method='pearson')\n",
    "\n",
    "# axis=0和1分别的表格的纵轴和横轴\n",
    "cor = data_train.corr(method='pearson')\n",
    "cor"
   ]
  },
  {
   "cell_type": "code",
   "execution_count": 4,
   "metadata": {
    "collapsed": true
   },
   "outputs": [
    {
     "data": {
      "text/html": [
       "<div>\n",
       "<table border=\"1\" class=\"dataframe\">\n",
       "  <thead>\n",
       "    <tr style=\"text-align: right;\">\n",
       "      <th></th>\n",
       "      <th>forward_count</th>\n",
       "      <th>comment_count</th>\n",
       "      <th>like_count</th>\n",
       "    </tr>\n",
       "  </thead>\n",
       "  <tbody>\n",
       "    <tr>\n",
       "      <th>forward_count</th>\n",
       "      <td>7273.512502</td>\n",
       "      <td>955.488071</td>\n",
       "      <td>1951.000904</td>\n",
       "    </tr>\n",
       "    <tr>\n",
       "      <th>comment_count</th>\n",
       "      <td>955.488071</td>\n",
       "      <td>373.770164</td>\n",
       "      <td>492.557839</td>\n",
       "    </tr>\n",
       "    <tr>\n",
       "      <th>like_count</th>\n",
       "      <td>1951.000904</td>\n",
       "      <td>492.557839</td>\n",
       "      <td>1702.676526</td>\n",
       "    </tr>\n",
       "  </tbody>\n",
       "</table>\n",
       "</div>"
      ],
      "text/plain": [
       "<div>\n",
       "<table border=\"1\" class=\"dataframe\">\n",
       "  <thead>\n",
       "    <tr style=\"text-align: right;\">\n",
       "      <th></th>\n",
       "      <th>forward_count</th>\n",
       "      <th>comment_count</th>\n",
       "      <th>like_count</th>\n",
       "    </tr>\n",
       "  </thead>\n",
       "  <tbody>\n",
       "    <tr>\n",
       "      <th>forward_count</th>\n",
       "      <td>7273.512502</td>\n",
       "      <td>955.488071</td>\n",
       "      <td>1951.000904</td>\n",
       "    </tr>\n",
       "    <tr>\n",
       "      <th>comment_count</th>\n",
       "      <td>955.488071</td>\n",
       "      <td>373.770164</td>\n",
       "      <td>492.557839</td>\n",
       "    </tr>\n",
       "    <tr>\n",
       "      <th>like_count</th>\n",
       "      <td>1951.000904</td>\n",
       "      <td>492.557839</td>\n",
       "      <td>1702.676526</td>\n",
       "    </tr>\n",
       "  </tbody>\n",
       "</table>\n",
       "</div>"
      ]
     },
     "execution_count": 4,
     "metadata": {},
     "output_type": "execute_result"
    }
   ],
   "source": [
    "cov = data_train.cov()\n",
    "cov"
   ]
  },
  {
   "cell_type": "code",
   "execution_count": null,
   "metadata": {
    "collapsed": true
   },
   "outputs": [],
   "source": [
    "import  matplotlib.pyplot as plt\n",
    "fig = plt.figure()\n",
    "\n",
    "data_train[\"forward_count\"][data_train[\"forward_count\"] != 0].plot(kind='bar')\n",
    "data_train[\"forward_count\"][data_train[\"forward_count\"] == 0].plot(kind='bar')\n",
    "plt.show()"
   ]
  },
  {
   "cell_type": "code",
   "execution_count": 9,
   "metadata": {},
   "outputs": [
    {
     "data": {
      "text/plain": [
       "<matplotlib.figure.Figure at 0x1f08950b048>"
      ]
     },
     "execution_count": 0,
     "metadata": {},
     "output_type": "execute_result"
    }
   ],
   "source": [
    "import  matplotlib.pyplot as plt\n",
    "fig = plt.figure()\n",
    "data_train[\"forward_count\"].value_counts()\n",
    "plt.show()"
   ]
  },
  {
   "cell_type": "code",
   "execution_count": 3,
   "metadata": {
    "collapsed": true
   },
   "outputs": [
    {
     "ename": "KeyboardInterrupt",
     "evalue": "",
     "traceback": [
      "\u001b[0;31m---------------------------------------------------------------------------\u001b[0m",
      "\u001b[0;31mKeyboardInterrupt\u001b[0m                         Traceback (most recent call last)",
      "\u001b[0;32m<ipython-input-3-9d0b73ed4615>\u001b[0m in \u001b[0;36m<module>\u001b[0;34m()\u001b[0m\n\u001b[1;32m      2\u001b[0m \u001b[1;32mimport\u001b[0m  \u001b[0mmatplotlib\u001b[0m\u001b[1;33m.\u001b[0m\u001b[0mpyplot\u001b[0m \u001b[1;32mas\u001b[0m \u001b[0mplt\u001b[0m\u001b[1;33m\u001b[0m\u001b[0m\n\u001b[1;32m      3\u001b[0m \u001b[0mfig\u001b[0m \u001b[1;33m=\u001b[0m \u001b[0mplt\u001b[0m\u001b[1;33m.\u001b[0m\u001b[0mfigure\u001b[0m\u001b[1;33m(\u001b[0m\u001b[1;33m)\u001b[0m\u001b[1;33m\u001b[0m\u001b[0m\n\u001b[0;32m----> 4\u001b[0;31m \u001b[0mdata_train\u001b[0m\u001b[1;33m[\u001b[0m\u001b[1;34m\"forward_count\"\u001b[0m\u001b[1;33m]\u001b[0m\u001b[1;33m.\u001b[0m\u001b[0mplot\u001b[0m\u001b[1;33m(\u001b[0m\u001b[0mkind\u001b[0m\u001b[1;33m=\u001b[0m\u001b[1;34m\"kde\"\u001b[0m\u001b[1;33m)\u001b[0m\u001b[1;33m\u001b[0m\u001b[0m\n\u001b[0m\u001b[1;32m      5\u001b[0m \u001b[0mdata_train\u001b[0m\u001b[1;33m[\u001b[0m\u001b[1;34m\"comment_count\"\u001b[0m\u001b[1;33m]\u001b[0m\u001b[1;33m.\u001b[0m\u001b[0mplot\u001b[0m\u001b[1;33m(\u001b[0m\u001b[0mkind\u001b[0m\u001b[1;33m=\u001b[0m\u001b[1;34m\"kde\"\u001b[0m\u001b[1;33m)\u001b[0m\u001b[1;33m\u001b[0m\u001b[0m\n\u001b[1;32m      6\u001b[0m \u001b[0mdata_train\u001b[0m\u001b[1;33m[\u001b[0m\u001b[1;34m\"like_count\"\u001b[0m\u001b[1;33m]\u001b[0m\u001b[1;33m.\u001b[0m\u001b[0mplot\u001b[0m\u001b[1;33m(\u001b[0m\u001b[0mkind\u001b[0m\u001b[1;33m=\u001b[0m\u001b[1;34m\"kde\"\u001b[0m\u001b[1;33m)\u001b[0m\u001b[1;33m\u001b[0m\u001b[0m\n",
      "\u001b[0;32md:\\Users\\Administrator\\Anaconda3\\lib\\site-packages\\pandas\\tools\\plotting.py\u001b[0m in \u001b[0;36m__call__\u001b[0;34m(self, kind, ax, figsize, use_index, title, grid, legend, style, logx, logy, loglog, xticks, yticks, xlim, ylim, rot, fontsize, colormap, table, yerr, xerr, label, secondary_y, **kwds)\u001b[0m\n\u001b[1;32m   3564\u001b[0m                            \u001b[0mcolormap\u001b[0m\u001b[1;33m=\u001b[0m\u001b[0mcolormap\u001b[0m\u001b[1;33m,\u001b[0m \u001b[0mtable\u001b[0m\u001b[1;33m=\u001b[0m\u001b[0mtable\u001b[0m\u001b[1;33m,\u001b[0m \u001b[0myerr\u001b[0m\u001b[1;33m=\u001b[0m\u001b[0myerr\u001b[0m\u001b[1;33m,\u001b[0m\u001b[1;33m\u001b[0m\u001b[0m\n\u001b[1;32m   3565\u001b[0m                            \u001b[0mxerr\u001b[0m\u001b[1;33m=\u001b[0m\u001b[0mxerr\u001b[0m\u001b[1;33m,\u001b[0m \u001b[0mlabel\u001b[0m\u001b[1;33m=\u001b[0m\u001b[0mlabel\u001b[0m\u001b[1;33m,\u001b[0m \u001b[0msecondary_y\u001b[0m\u001b[1;33m=\u001b[0m\u001b[0msecondary_y\u001b[0m\u001b[1;33m,\u001b[0m\u001b[1;33m\u001b[0m\u001b[0m\n\u001b[0;32m-> 3566\u001b[0;31m                            **kwds)\n\u001b[0m\u001b[1;32m   3567\u001b[0m     \u001b[0m__call__\u001b[0m\u001b[1;33m.\u001b[0m\u001b[0m__doc__\u001b[0m \u001b[1;33m=\u001b[0m \u001b[0mplot_series\u001b[0m\u001b[1;33m.\u001b[0m\u001b[0m__doc__\u001b[0m\u001b[1;33m\u001b[0m\u001b[0m\n\u001b[1;32m   3568\u001b[0m \u001b[1;33m\u001b[0m\u001b[0m\n",
      "\u001b[0;32md:\\Users\\Administrator\\Anaconda3\\lib\\site-packages\\pandas\\tools\\plotting.py\u001b[0m in \u001b[0;36mplot_series\u001b[0;34m(data, kind, ax, figsize, use_index, title, grid, legend, style, logx, logy, loglog, xticks, yticks, xlim, ylim, rot, fontsize, colormap, table, yerr, xerr, label, secondary_y, **kwds)\u001b[0m\n\u001b[1;32m   2643\u001b[0m                  \u001b[0myerr\u001b[0m\u001b[1;33m=\u001b[0m\u001b[0myerr\u001b[0m\u001b[1;33m,\u001b[0m \u001b[0mxerr\u001b[0m\u001b[1;33m=\u001b[0m\u001b[0mxerr\u001b[0m\u001b[1;33m,\u001b[0m\u001b[1;33m\u001b[0m\u001b[0m\n\u001b[1;32m   2644\u001b[0m                  \u001b[0mlabel\u001b[0m\u001b[1;33m=\u001b[0m\u001b[0mlabel\u001b[0m\u001b[1;33m,\u001b[0m \u001b[0msecondary_y\u001b[0m\u001b[1;33m=\u001b[0m\u001b[0msecondary_y\u001b[0m\u001b[1;33m,\u001b[0m\u001b[1;33m\u001b[0m\u001b[0m\n\u001b[0;32m-> 2645\u001b[0;31m                  **kwds)\n\u001b[0m\u001b[1;32m   2646\u001b[0m \u001b[1;33m\u001b[0m\u001b[0m\n\u001b[1;32m   2647\u001b[0m \u001b[1;33m\u001b[0m\u001b[0m\n",
      "\u001b[0;32md:\\Users\\Administrator\\Anaconda3\\lib\\site-packages\\pandas\\tools\\plotting.py\u001b[0m in \u001b[0;36m_plot\u001b[0;34m(data, x, y, subplots, ax, kind, **kwds)\u001b[0m\n\u001b[1;32m   2439\u001b[0m         \u001b[0mplot_obj\u001b[0m \u001b[1;33m=\u001b[0m \u001b[0mklass\u001b[0m\u001b[1;33m(\u001b[0m\u001b[0mdata\u001b[0m\u001b[1;33m,\u001b[0m \u001b[0msubplots\u001b[0m\u001b[1;33m=\u001b[0m\u001b[0msubplots\u001b[0m\u001b[1;33m,\u001b[0m \u001b[0max\u001b[0m\u001b[1;33m=\u001b[0m\u001b[0max\u001b[0m\u001b[1;33m,\u001b[0m \u001b[0mkind\u001b[0m\u001b[1;33m=\u001b[0m\u001b[0mkind\u001b[0m\u001b[1;33m,\u001b[0m \u001b[1;33m**\u001b[0m\u001b[0mkwds\u001b[0m\u001b[1;33m)\u001b[0m\u001b[1;33m\u001b[0m\u001b[0m\n\u001b[1;32m   2440\u001b[0m \u001b[1;33m\u001b[0m\u001b[0m\n\u001b[0;32m-> 2441\u001b[0;31m     \u001b[0mplot_obj\u001b[0m\u001b[1;33m.\u001b[0m\u001b[0mgenerate\u001b[0m\u001b[1;33m(\u001b[0m\u001b[1;33m)\u001b[0m\u001b[1;33m\u001b[0m\u001b[0m\n\u001b[0m\u001b[1;32m   2442\u001b[0m     \u001b[0mplot_obj\u001b[0m\u001b[1;33m.\u001b[0m\u001b[0mdraw\u001b[0m\u001b[1;33m(\u001b[0m\u001b[1;33m)\u001b[0m\u001b[1;33m\u001b[0m\u001b[0m\n\u001b[1;32m   2443\u001b[0m     \u001b[1;32mreturn\u001b[0m \u001b[0mplot_obj\u001b[0m\u001b[1;33m.\u001b[0m\u001b[0mresult\u001b[0m\u001b[1;33m\u001b[0m\u001b[0m\n",
      "\u001b[0;32md:\\Users\\Administrator\\Anaconda3\\lib\\site-packages\\pandas\\tools\\plotting.py\u001b[0m in \u001b[0;36mgenerate\u001b[0;34m(self)\u001b[0m\n\u001b[1;32m   1026\u001b[0m         \u001b[0mself\u001b[0m\u001b[1;33m.\u001b[0m\u001b[0m_compute_plot_data\u001b[0m\u001b[1;33m(\u001b[0m\u001b[1;33m)\u001b[0m\u001b[1;33m\u001b[0m\u001b[0m\n\u001b[1;32m   1027\u001b[0m         \u001b[0mself\u001b[0m\u001b[1;33m.\u001b[0m\u001b[0m_setup_subplots\u001b[0m\u001b[1;33m(\u001b[0m\u001b[1;33m)\u001b[0m\u001b[1;33m\u001b[0m\u001b[0m\n\u001b[0;32m-> 1028\u001b[0;31m         \u001b[0mself\u001b[0m\u001b[1;33m.\u001b[0m\u001b[0m_make_plot\u001b[0m\u001b[1;33m(\u001b[0m\u001b[1;33m)\u001b[0m\u001b[1;33m\u001b[0m\u001b[0m\n\u001b[0m\u001b[1;32m   1029\u001b[0m         \u001b[0mself\u001b[0m\u001b[1;33m.\u001b[0m\u001b[0m_add_table\u001b[0m\u001b[1;33m(\u001b[0m\u001b[1;33m)\u001b[0m\u001b[1;33m\u001b[0m\u001b[0m\n\u001b[1;32m   1030\u001b[0m         \u001b[0mself\u001b[0m\u001b[1;33m.\u001b[0m\u001b[0m_make_legend\u001b[0m\u001b[1;33m(\u001b[0m\u001b[1;33m)\u001b[0m\u001b[1;33m\u001b[0m\u001b[0m\n",
      "\u001b[0;32md:\\Users\\Administrator\\Anaconda3\\lib\\site-packages\\pandas\\tools\\plotting.py\u001b[0m in \u001b[0;36m_make_plot\u001b[0;34m(self)\u001b[0m\n\u001b[1;32m   2071\u001b[0m             \u001b[0mkwds\u001b[0m \u001b[1;33m=\u001b[0m \u001b[0mself\u001b[0m\u001b[1;33m.\u001b[0m\u001b[0m_make_plot_keywords\u001b[0m\u001b[1;33m(\u001b[0m\u001b[0mkwds\u001b[0m\u001b[1;33m,\u001b[0m \u001b[0my\u001b[0m\u001b[1;33m)\u001b[0m\u001b[1;33m\u001b[0m\u001b[0m\n\u001b[1;32m   2072\u001b[0m             artists = self._plot(ax, y, column_num=i,\n\u001b[0;32m-> 2073\u001b[0;31m                                  stacking_id=stacking_id, **kwds)\n\u001b[0m\u001b[1;32m   2074\u001b[0m             \u001b[0mself\u001b[0m\u001b[1;33m.\u001b[0m\u001b[0m_add_legend_handle\u001b[0m\u001b[1;33m(\u001b[0m\u001b[0martists\u001b[0m\u001b[1;33m[\u001b[0m\u001b[1;36m0\u001b[0m\u001b[1;33m]\u001b[0m\u001b[1;33m,\u001b[0m \u001b[0mlabel\u001b[0m\u001b[1;33m,\u001b[0m \u001b[0mindex\u001b[0m\u001b[1;33m=\u001b[0m\u001b[0mi\u001b[0m\u001b[1;33m)\u001b[0m\u001b[1;33m\u001b[0m\u001b[0m\n\u001b[1;32m   2075\u001b[0m \u001b[1;33m\u001b[0m\u001b[0m\n",
      "\u001b[0;32md:\\Users\\Administrator\\Anaconda3\\lib\\site-packages\\pandas\\tools\\plotting.py\u001b[0m in \u001b[0;36m_plot\u001b[0;34m(cls, ax, y, style, bw_method, ind, column_num, stacking_id, **kwds)\u001b[0m\n\u001b[1;32m   2133\u001b[0m                 \u001b[0mwarnings\u001b[0m\u001b[1;33m.\u001b[0m\u001b[0mwarn\u001b[0m\u001b[1;33m(\u001b[0m\u001b[0mmsg\u001b[0m\u001b[1;33m)\u001b[0m\u001b[1;33m\u001b[0m\u001b[0m\n\u001b[1;32m   2134\u001b[0m \u001b[1;33m\u001b[0m\u001b[0m\n\u001b[0;32m-> 2135\u001b[0;31m         \u001b[0my\u001b[0m \u001b[1;33m=\u001b[0m \u001b[0mgkde\u001b[0m\u001b[1;33m.\u001b[0m\u001b[0mevaluate\u001b[0m\u001b[1;33m(\u001b[0m\u001b[0mind\u001b[0m\u001b[1;33m)\u001b[0m\u001b[1;33m\u001b[0m\u001b[0m\n\u001b[0m\u001b[1;32m   2136\u001b[0m         \u001b[0mlines\u001b[0m \u001b[1;33m=\u001b[0m \u001b[0mMPLPlot\u001b[0m\u001b[1;33m.\u001b[0m\u001b[0m_plot\u001b[0m\u001b[1;33m(\u001b[0m\u001b[0max\u001b[0m\u001b[1;33m,\u001b[0m \u001b[0mind\u001b[0m\u001b[1;33m,\u001b[0m \u001b[0my\u001b[0m\u001b[1;33m,\u001b[0m \u001b[0mstyle\u001b[0m\u001b[1;33m=\u001b[0m\u001b[0mstyle\u001b[0m\u001b[1;33m,\u001b[0m \u001b[1;33m**\u001b[0m\u001b[0mkwds\u001b[0m\u001b[1;33m)\u001b[0m\u001b[1;33m\u001b[0m\u001b[0m\n\u001b[1;32m   2137\u001b[0m         \u001b[1;32mreturn\u001b[0m \u001b[0mlines\u001b[0m\u001b[1;33m\u001b[0m\u001b[0m\n",
      "\u001b[0;32md:\\Users\\Administrator\\Anaconda3\\lib\\site-packages\\scipy\\stats\\kde.py\u001b[0m in \u001b[0;36mevaluate\u001b[0;34m(self, points)\u001b[0m\n\u001b[1;32m    219\u001b[0m                 \u001b[0mtdiff\u001b[0m \u001b[1;33m=\u001b[0m \u001b[0mdot\u001b[0m\u001b[1;33m(\u001b[0m\u001b[0mself\u001b[0m\u001b[1;33m.\u001b[0m\u001b[0minv_cov\u001b[0m\u001b[1;33m,\u001b[0m \u001b[0mdiff\u001b[0m\u001b[1;33m)\u001b[0m\u001b[1;33m\u001b[0m\u001b[0m\n\u001b[1;32m    220\u001b[0m                 \u001b[0menergy\u001b[0m \u001b[1;33m=\u001b[0m \u001b[0msum\u001b[0m\u001b[1;33m(\u001b[0m\u001b[0mdiff\u001b[0m \u001b[1;33m*\u001b[0m \u001b[0mtdiff\u001b[0m\u001b[1;33m,\u001b[0m \u001b[0maxis\u001b[0m\u001b[1;33m=\u001b[0m\u001b[1;36m0\u001b[0m\u001b[1;33m)\u001b[0m \u001b[1;33m/\u001b[0m \u001b[1;36m2.0\u001b[0m\u001b[1;33m\u001b[0m\u001b[0m\n\u001b[0;32m--> 221\u001b[0;31m                 \u001b[0mresult\u001b[0m\u001b[1;33m[\u001b[0m\u001b[0mi\u001b[0m\u001b[1;33m]\u001b[0m \u001b[1;33m=\u001b[0m \u001b[0msum\u001b[0m\u001b[1;33m(\u001b[0m\u001b[0mexp\u001b[0m\u001b[1;33m(\u001b[0m\u001b[1;33m-\u001b[0m\u001b[0menergy\u001b[0m\u001b[1;33m)\u001b[0m\u001b[1;33m,\u001b[0m \u001b[0maxis\u001b[0m\u001b[1;33m=\u001b[0m\u001b[1;36m0\u001b[0m\u001b[1;33m)\u001b[0m\u001b[1;33m\u001b[0m\u001b[0m\n\u001b[0m\u001b[1;32m    222\u001b[0m \u001b[1;33m\u001b[0m\u001b[0m\n\u001b[1;32m    223\u001b[0m         \u001b[0mresult\u001b[0m \u001b[1;33m=\u001b[0m \u001b[0mresult\u001b[0m \u001b[1;33m/\u001b[0m \u001b[0mself\u001b[0m\u001b[1;33m.\u001b[0m\u001b[0m_norm_factor\u001b[0m\u001b[1;33m\u001b[0m\u001b[0m\n",
      "\u001b[0;31mKeyboardInterrupt\u001b[0m: "
     ],
     "output_type": "error"
    }
   ],
   "source": [
    "#  密度分布图\n",
    "import  matplotlib.pyplot as plt\n",
    "fig = plt.figure()\n",
    "data_train[\"forward_count\"].plot(kind=\"kde\")\n",
    "data_train[\"comment_count\"].plot(kind=\"kde\")\n",
    "data_train[\"like_count\"].plot(kind=\"kde\")\n",
    "plt.xlabel(\"Count\")# plots an axis lable\n",
    "plt.ylabel(\"density\")\n",
    "plt.title(\"Density of FCL\")\n",
    "plt.legend((u'1forward_count', u'2comment_count',u'3like_count'),loc='best') # sets our legend for our graph.\n",
    "plt.show()"
   ]
  },
  {
   "cell_type": "code",
   "execution_count": 16,
   "metadata": {},
   "outputs": [
    {
     "data": {
      "text/plain": [
       "array([0, 0, 0], dtype=object)"
      ]
     },
     "execution_count": 16,
     "metadata": {},
     "output_type": "execute_result"
    }
   ],
   "source": [
    "a =data_train.ix[0][3:6]\n",
    "type(a.values)\n",
    "a.values"
   ]
  },
  {
   "cell_type": "code",
   "execution_count": null,
   "metadata": {},
   "outputs": [],
   "source": [
    ""
   ]
  },
  {
   "cell_type": "code",
   "execution_count": 33,
   "metadata": {
    "collapsed": true
   },
   "outputs": [
    {
     "ename": "KeyboardInterrupt",
     "evalue": "",
     "traceback": [
      "\u001b[0;31m---------------------------------------------------------------------------\u001b[0m",
      "\u001b[0;31mKeyboardInterrupt\u001b[0m                         Traceback (most recent call last)",
      "\u001b[0;32m<ipython-input-33-ebfda24324e2>\u001b[0m in \u001b[0;36m<module>\u001b[0;34m()\u001b[0m\n\u001b[1;32m      1\u001b[0m \u001b[0muser_dict\u001b[0m \u001b[1;33m=\u001b[0m\u001b[1;33m{\u001b[0m\u001b[1;33m}\u001b[0m\u001b[1;33m\u001b[0m\u001b[0m\n\u001b[1;32m      2\u001b[0m \u001b[1;32mfor\u001b[0m \u001b[0mi\u001b[0m \u001b[1;32min\u001b[0m \u001b[0mrange\u001b[0m\u001b[1;33m(\u001b[0m\u001b[0mdata_train\u001b[0m\u001b[1;33m.\u001b[0m\u001b[0msize\u001b[0m\u001b[1;33m)\u001b[0m\u001b[1;33m:\u001b[0m\u001b[1;33m\u001b[0m\u001b[0m\n\u001b[0;32m----> 3\u001b[0;31m     \u001b[0mkey\u001b[0m \u001b[1;33m=\u001b[0m \u001b[0mdata_train\u001b[0m\u001b[1;33m.\u001b[0m\u001b[0mix\u001b[0m\u001b[1;33m[\u001b[0m\u001b[0mi\u001b[0m\u001b[1;33m]\u001b[0m\u001b[1;33m[\u001b[0m\u001b[1;36m0\u001b[0m\u001b[1;33m]\u001b[0m\u001b[1;33m\u001b[0m\u001b[0m\n\u001b[0m\u001b[1;32m      4\u001b[0m     \u001b[0mvalue\u001b[0m \u001b[1;33m=\u001b[0m \u001b[0mdata_train\u001b[0m\u001b[1;33m.\u001b[0m\u001b[0mix\u001b[0m\u001b[1;33m[\u001b[0m\u001b[0mi\u001b[0m\u001b[1;33m]\u001b[0m\u001b[1;33m[\u001b[0m\u001b[1;36m3\u001b[0m\u001b[1;33m:\u001b[0m\u001b[1;36m6\u001b[0m\u001b[1;33m]\u001b[0m\u001b[1;33m.\u001b[0m\u001b[0mvalues\u001b[0m\u001b[1;33m\u001b[0m\u001b[0m\n\u001b[1;32m      5\u001b[0m     \u001b[1;32mif\u001b[0m \u001b[0mkey\u001b[0m \u001b[1;32mnot\u001b[0m \u001b[1;32min\u001b[0m \u001b[0muser_dict\u001b[0m\u001b[1;33m.\u001b[0m\u001b[0mkeys\u001b[0m\u001b[1;33m(\u001b[0m\u001b[1;33m)\u001b[0m\u001b[1;33m:\u001b[0m\u001b[1;33m\u001b[0m\u001b[0m\n",
      "\u001b[0;32md:\\Users\\Administrator\\Anaconda3\\lib\\site-packages\\pandas\\core\\indexing.py\u001b[0m in \u001b[0;36m__getitem__\u001b[0;34m(self, key)\u001b[0m\n\u001b[1;32m     76\u001b[0m         \u001b[1;32melse\u001b[0m\u001b[1;33m:\u001b[0m\u001b[1;33m\u001b[0m\u001b[0m\n\u001b[1;32m     77\u001b[0m             \u001b[0mkey\u001b[0m \u001b[1;33m=\u001b[0m \u001b[0mcom\u001b[0m\u001b[1;33m.\u001b[0m\u001b[0m_apply_if_callable\u001b[0m\u001b[1;33m(\u001b[0m\u001b[0mkey\u001b[0m\u001b[1;33m,\u001b[0m \u001b[0mself\u001b[0m\u001b[1;33m.\u001b[0m\u001b[0mobj\u001b[0m\u001b[1;33m)\u001b[0m\u001b[1;33m\u001b[0m\u001b[0m\n\u001b[0;32m---> 78\u001b[0;31m             \u001b[1;32mreturn\u001b[0m \u001b[0mself\u001b[0m\u001b[1;33m.\u001b[0m\u001b[0m_getitem_axis\u001b[0m\u001b[1;33m(\u001b[0m\u001b[0mkey\u001b[0m\u001b[1;33m,\u001b[0m \u001b[0maxis\u001b[0m\u001b[1;33m=\u001b[0m\u001b[1;36m0\u001b[0m\u001b[1;33m)\u001b[0m\u001b[1;33m\u001b[0m\u001b[0m\n\u001b[0m\u001b[1;32m     79\u001b[0m \u001b[1;33m\u001b[0m\u001b[0m\n\u001b[1;32m     80\u001b[0m     \u001b[1;32mdef\u001b[0m \u001b[0m_get_label\u001b[0m\u001b[1;33m(\u001b[0m\u001b[0mself\u001b[0m\u001b[1;33m,\u001b[0m \u001b[0mlabel\u001b[0m\u001b[1;33m,\u001b[0m \u001b[0maxis\u001b[0m\u001b[1;33m=\u001b[0m\u001b[1;36m0\u001b[0m\u001b[1;33m)\u001b[0m\u001b[1;33m:\u001b[0m\u001b[1;33m\u001b[0m\u001b[0m\n",
      "\u001b[0;32md:\\Users\\Administrator\\Anaconda3\\lib\\site-packages\\pandas\\core\\indexing.py\u001b[0m in \u001b[0;36m_getitem_axis\u001b[0;34m(self, key, axis)\u001b[0m\n\u001b[1;32m   1016\u001b[0m                     \u001b[1;32mreturn\u001b[0m \u001b[0mself\u001b[0m\u001b[1;33m.\u001b[0m\u001b[0m_get_loc\u001b[0m\u001b[1;33m(\u001b[0m\u001b[0mkey\u001b[0m\u001b[1;33m,\u001b[0m \u001b[0maxis\u001b[0m\u001b[1;33m=\u001b[0m\u001b[0maxis\u001b[0m\u001b[1;33m)\u001b[0m\u001b[1;33m\u001b[0m\u001b[0m\n\u001b[1;32m   1017\u001b[0m \u001b[1;33m\u001b[0m\u001b[0m\n\u001b[0;32m-> 1018\u001b[0;31m             \u001b[1;32mreturn\u001b[0m \u001b[0mself\u001b[0m\u001b[1;33m.\u001b[0m\u001b[0m_get_label\u001b[0m\u001b[1;33m(\u001b[0m\u001b[0mkey\u001b[0m\u001b[1;33m,\u001b[0m \u001b[0maxis\u001b[0m\u001b[1;33m=\u001b[0m\u001b[0maxis\u001b[0m\u001b[1;33m)\u001b[0m\u001b[1;33m\u001b[0m\u001b[0m\n\u001b[0m\u001b[1;32m   1019\u001b[0m \u001b[1;33m\u001b[0m\u001b[0m\n\u001b[1;32m   1020\u001b[0m     \u001b[1;32mdef\u001b[0m \u001b[0m_getitem_iterable\u001b[0m\u001b[1;33m(\u001b[0m\u001b[0mself\u001b[0m\u001b[1;33m,\u001b[0m \u001b[0mkey\u001b[0m\u001b[1;33m,\u001b[0m \u001b[0maxis\u001b[0m\u001b[1;33m=\u001b[0m\u001b[1;36m0\u001b[0m\u001b[1;33m)\u001b[0m\u001b[1;33m:\u001b[0m\u001b[1;33m\u001b[0m\u001b[0m\n",
      "\u001b[0;32md:\\Users\\Administrator\\Anaconda3\\lib\\site-packages\\pandas\\core\\indexing.py\u001b[0m in \u001b[0;36m_get_label\u001b[0;34m(self, label, axis)\u001b[0m\n\u001b[1;32m     91\u001b[0m             \u001b[1;32mraise\u001b[0m \u001b[0mIndexingError\u001b[0m\u001b[1;33m(\u001b[0m\u001b[1;34m'no slices here, handle elsewhere'\u001b[0m\u001b[1;33m)\u001b[0m\u001b[1;33m\u001b[0m\u001b[0m\n\u001b[1;32m     92\u001b[0m \u001b[1;33m\u001b[0m\u001b[0m\n\u001b[0;32m---> 93\u001b[0;31m         \u001b[1;32mreturn\u001b[0m \u001b[0mself\u001b[0m\u001b[1;33m.\u001b[0m\u001b[0mobj\u001b[0m\u001b[1;33m.\u001b[0m\u001b[0m_xs\u001b[0m\u001b[1;33m(\u001b[0m\u001b[0mlabel\u001b[0m\u001b[1;33m,\u001b[0m \u001b[0maxis\u001b[0m\u001b[1;33m=\u001b[0m\u001b[0maxis\u001b[0m\u001b[1;33m)\u001b[0m\u001b[1;33m\u001b[0m\u001b[0m\n\u001b[0m\u001b[1;32m     94\u001b[0m \u001b[1;33m\u001b[0m\u001b[0m\n\u001b[1;32m     95\u001b[0m     \u001b[1;32mdef\u001b[0m \u001b[0m_get_loc\u001b[0m\u001b[1;33m(\u001b[0m\u001b[0mself\u001b[0m\u001b[1;33m,\u001b[0m \u001b[0mkey\u001b[0m\u001b[1;33m,\u001b[0m \u001b[0maxis\u001b[0m\u001b[1;33m=\u001b[0m\u001b[1;36m0\u001b[0m\u001b[1;33m)\u001b[0m\u001b[1;33m:\u001b[0m\u001b[1;33m\u001b[0m\u001b[0m\n",
      "\u001b[0;32md:\\Users\\Administrator\\Anaconda3\\lib\\site-packages\\pandas\\core\\generic.py\u001b[0m in \u001b[0;36mxs\u001b[0;34m(self, key, axis, level, copy, drop_level)\u001b[0m\n\u001b[1;32m   1747\u001b[0m                                                       drop_level=drop_level)\n\u001b[1;32m   1748\u001b[0m         \u001b[1;32melse\u001b[0m\u001b[1;33m:\u001b[0m\u001b[1;33m\u001b[0m\u001b[0m\n\u001b[0;32m-> 1749\u001b[0;31m             \u001b[0mloc\u001b[0m \u001b[1;33m=\u001b[0m \u001b[0mself\u001b[0m\u001b[1;33m.\u001b[0m\u001b[0mindex\u001b[0m\u001b[1;33m.\u001b[0m\u001b[0mget_loc\u001b[0m\u001b[1;33m(\u001b[0m\u001b[0mkey\u001b[0m\u001b[1;33m)\u001b[0m\u001b[1;33m\u001b[0m\u001b[0m\n\u001b[0m\u001b[1;32m   1750\u001b[0m \u001b[1;33m\u001b[0m\u001b[0m\n\u001b[1;32m   1751\u001b[0m             \u001b[1;32mif\u001b[0m \u001b[0misinstance\u001b[0m\u001b[1;33m(\u001b[0m\u001b[0mloc\u001b[0m\u001b[1;33m,\u001b[0m \u001b[0mnp\u001b[0m\u001b[1;33m.\u001b[0m\u001b[0mndarray\u001b[0m\u001b[1;33m)\u001b[0m\u001b[1;33m:\u001b[0m\u001b[1;33m\u001b[0m\u001b[0m\n",
      "\u001b[0;31mKeyboardInterrupt\u001b[0m: "
     ],
     "output_type": "error"
    }
   ],
   "source": [
    "user_dict ={}\n",
    "for i in range(data_train.size):\n",
    "    key = data_train.ix[i][0]\n",
    "    value = data_train.ix[i][3:6].values\n",
    "    if key not in user_dict.keys():\n",
    "        user_dict[key] = [value]\n",
    "    else:\n",
    "        # print(type(user_dict[key]))\n",
    "        user_dict[key].append(value)\n",
    "        # print(user_dict[key])\n",
    "  \n",
    "   \n",
    "    # user_dict [data_train.ix[i][0]] =data_train.ix[i][3:6].values\n",
    "print(len(user_dict))"
   ]
  },
  {
   "cell_type": "code",
   "execution_count": 103,
   "metadata": {
    "collapsed": true
   },
   "outputs": [
    {
     "name": "stdout",
     "output_type": "stream",
     "text": [
      "<class 'numpy.ndarray'>\n"
     ]
    },
    {
     "data": {
      "text/plain": [
       "array([['000127c6126e2b0019f255ed21ac1cb7'],\n       ['0001565a5edece1669577e2ace9a6a3d'],\n       ['00033a6513b86b2705de9ffa9d37ffb6'],\n       ..., \n       ['ffff3110aae05333d489d3707bee1d17'],\n       ['ffff39bf301adf32d06aae9dc70892fa'],\n       ['ffff5e493015a9240bd4d29de15ef55b']], dtype=object)"
      ]
     },
     "execution_count": 103,
     "metadata": {},
     "output_type": "execute_result"
    }
   ],
   "source": [
    "user_train=pd.read_table('D:\\\\www\\\\data\\\\Weibo Data\\\\Weibo Data\\\\weibo_train_data(new)\\\\userId.txt',\n",
    "                         header=None,encoding='utf-8'  )    \n",
    "user_train.columns=['userId']\n",
    "user_train.size\n",
    "print(type(user_train.values))\n",
    "user_train.values"
   ]
  },
  {
   "cell_type": "code",
   "execution_count": 27,
   "metadata": {
    "collapsed": true
   },
   "outputs": [
    {
     "name": "stdout",
     "output_type": "stream",
     "text": [
      "                                 comment_count content datetime forward_count  \\\nuserId                                                                          \n000127c6126e2b0019f255ed21ac1cb7         False    True     True         False   \n0001565a5edece1669577e2ace9a6a3d         False    True     True         False   \n00033a6513b86b2705de9ffa9d37ffb6         False    True     True         False   \n0004fe2742507420eaa73e119dc83ac5         False    True     True         False   \n000c663a24a2f91f4ba156fcd4f8b9f2         False    True     True         False   \n000ce19d2fccb1f22421bec50bf25b08         False    True     True         False   \n000d7bf7406392b2212dfb4fe907d946         False    True     True         False   \n0012edb614365800e901c7f2b47e9129         False    True     True         False   \n001349a053bdecf1a71960f29288ced1         False    True     True         False   \n0015c42ec93854687a258a7f170c6acf         False    True     True         False   \n0018b27ecc1370e4208b6b2f175e6651         False    True     True         False   \n001d259734bccab73fdc373803c1fcd3         False    True     True         False   \n001d458a43e7fd1d9f8e2eba54d5d2fe         False    True     True         False   \n001e00fddab72bf7e6be3455e199904a         False    True     True         False   \n001fe802d7b8a3f5782b25acf0410440         False    True     True         False   \n00203b1aa005f8e374c1e681f5c2ba20         False    True     True         False   \n00212e7163d4aa64f2d7956a35027aa3         False    True     True         False   \n00218f81fb7713a915d74a1d44f95b0b         False    True     True         False   \n00235ea45eb587598e730a01e0c95435         False    True     True         False   \n0024afeb386597432b7fe0d0a4bd9520         False    True     True         False   \n0025fdc5741eb5afeeda3c90b8b35450          True    True     True         False   \n0026416dd4943c8b119896c1e824227b         False    True     True         False   \n0026bf3bb797997289aa4bd80d2965f6         False    True     True         False   \n002c120b0b15d1f749c8d07d54ea6420         False    True     True         False   \n002d3fc1ec528dcc11e7bab8ddc12ffd         False    True     True         False   \n002fffb6806ef6a0d9507d6038e11fce         False    True     True         False   \n0030024edee05cfcfd490fecb30ce8f8         False    True     True         False   \n0030649a18ba85357aa55953cd22c366         False    True     True         False   \n003242bfec263f03e8c7e8df606d961b         False    True     True         False   \n00366f1ae39b881bdb2ba8687a4c912a         False    True     True         False   \n...                                        ...     ...      ...           ...   \nffdd80d2f1023779e30956c34b044b25         False    True     True         False   \nffdf0fa0ddbdaf8a519754c81a75975e         False    True     True         False   \nffdff3f1dbd16567f971a5a490c27e42         False    True     True         False   \nffe0b0a715858a0288a4507ea086f890         False    True     True         False   \nffe16c0d7b364919af58492f9e67b975         False    True     True         False   \nffe42732a2e7e1d039358065c1ca0b0f         False    True     True         False   \nffe43709a23926d8c67f2fd2b6b47484         False    True     True         False   \nffe56fb4917b43ab3264598abfeff9f7         False    True     True         False   \nffe71963fb7fa7851ee9b4e2c2ce72df         False    True     True         False   \nffe8cdf01ecb2f53994e9e9da3e67e2b         False    True     True         False   \nffe8dc72ef634638d7ddffb6dc79cb1b         False    True     True         False   \nffeaea408edaab9fd486aac63658824c         False    True     True         False   \nffebca57cf8bab67883d2db042b89fcf         False    True     True         False   \nffefb5e064e72ca10ab4372391c265ce         False    True     True         False   \nfff02e56b2bdd9d8da2877b42cdf2a3e         False    True     True         False   \nfff092ad59869987f022e62337c5efe5         False    True     True         False   \nfff25a31885431b3adf2540f066040d0         False    True     True         False   \nfff3b5b067b1e1671a8208f3c014430a         False    True     True         False   \nfff48bb93b55b8132df63dc6b3e6fc13         False    True     True         False   \nfff57978753d3b84e8427f1a9b0038fd         False    True     True         False   \nfff5fe2707a4209e4be3d03a024db2eb         False    True     True         False   \nfff67a9d6f8b2745a2cada662fc9c4a9         False    True     True         False   \nfff7d9e6a58934f7f40f23b67c4196b8         False    True     True         False   \nfff835220e94f8cd86790c43fba63122         False    True     True         False   \nfffb8f592e72d9faa20ca65119c0acc1         False    True     True         False   \nfffb96446162927dd6c69124f250bbf0         False    True     True         False   \nfffcc9de3131383d2c7111e2e15b740d         False    True     True         False   \nffff3110aae05333d489d3707bee1d17         False    True     True         False   \nffff39bf301adf32d06aae9dc70892fa         False    True     True         False   \nffff5e493015a9240bd4d29de15ef55b         False    True     True         False   \n\n                                 like_count weiboId  \nuserId                                               \n000127c6126e2b0019f255ed21ac1cb7      False    True  \n0001565a5edece1669577e2ace9a6a3d      False    True  \n00033a6513b86b2705de9ffa9d37ffb6      False    True  \n0004fe2742507420eaa73e119dc83ac5      False    True  \n000c663a24a2f91f4ba156fcd4f8b9f2      False    True  \n000ce19d2fccb1f22421bec50bf25b08      False    True  \n000d7bf7406392b2212dfb4fe907d946      False    True  \n0012edb614365800e901c7f2b47e9129      False    True  \n001349a053bdecf1a71960f29288ced1      False    True  \n0015c42ec93854687a258a7f170c6acf      False    True  \n0018b27ecc1370e4208b6b2f175e6651      False    True  \n001d259734bccab73fdc373803c1fcd3      False    True  \n001d458a43e7fd1d9f8e2eba54d5d2fe      False    True  \n001e00fddab72bf7e6be3455e199904a      False    True  \n001fe802d7b8a3f5782b25acf0410440      False    True  \n00203b1aa005f8e374c1e681f5c2ba20      False    True  \n00212e7163d4aa64f2d7956a35027aa3      False    True  \n00218f81fb7713a915d74a1d44f95b0b      False    True  \n00235ea45eb587598e730a01e0c95435      False    True  \n0024afeb386597432b7fe0d0a4bd9520      False    True  \n0025fdc5741eb5afeeda3c90b8b35450       True    True  \n0026416dd4943c8b119896c1e824227b      False    True  \n0026bf3bb797997289aa4bd80d2965f6      False    True  \n002c120b0b15d1f749c8d07d54ea6420      False    True  \n002d3fc1ec528dcc11e7bab8ddc12ffd      False    True  \n002fffb6806ef6a0d9507d6038e11fce      False    True  \n0030024edee05cfcfd490fecb30ce8f8      False    True  \n0030649a18ba85357aa55953cd22c366      False    True  \n003242bfec263f03e8c7e8df606d961b      False    True  \n00366f1ae39b881bdb2ba8687a4c912a      False    True  \n...                                     ...     ...  \nffdd80d2f1023779e30956c34b044b25      False    True  \nffdf0fa0ddbdaf8a519754c81a75975e      False    True  \nffdff3f1dbd16567f971a5a490c27e42      False    True  \nffe0b0a715858a0288a4507ea086f890      False    True  \nffe16c0d7b364919af58492f9e67b975      False    True  \nffe42732a2e7e1d039358065c1ca0b0f      False    True  \nffe43709a23926d8c67f2fd2b6b47484      False    True  \nffe56fb4917b43ab3264598abfeff9f7      False    True  \nffe71963fb7fa7851ee9b4e2c2ce72df      False    True  \nffe8cdf01ecb2f53994e9e9da3e67e2b      False    True  \nffe8dc72ef634638d7ddffb6dc79cb1b      False    True  \nffeaea408edaab9fd486aac63658824c      False    True  \nffebca57cf8bab67883d2db042b89fcf      False    True  \nffefb5e064e72ca10ab4372391c265ce      False    True  \nfff02e56b2bdd9d8da2877b42cdf2a3e      False    True  \nfff092ad59869987f022e62337c5efe5      False    True  \nfff25a31885431b3adf2540f066040d0      False    True  \nfff3b5b067b1e1671a8208f3c014430a      False    True  \nfff48bb93b55b8132df63dc6b3e6fc13      False    True  \nfff57978753d3b84e8427f1a9b0038fd      False    True  \nfff5fe2707a4209e4be3d03a024db2eb      False    True  \nfff67a9d6f8b2745a2cada662fc9c4a9      False    True  \nfff7d9e6a58934f7f40f23b67c4196b8      False    True  \nfff835220e94f8cd86790c43fba63122      False    True  \nfffb8f592e72d9faa20ca65119c0acc1      False    True  \nfffb96446162927dd6c69124f250bbf0      False    True  \nfffcc9de3131383d2c7111e2e15b740d      False    True  \nffff3110aae05333d489d3707bee1d17      False    True  \nffff39bf301adf32d06aae9dc70892fa      False    True  \nffff5e493015a9240bd4d29de15ef55b      False    True  \n\n[37251 rows x 6 columns]\n"
     ]
    }
   ],
   "source": [
    "userId_set = data_train.groupby(by=\"userId\")\n",
    "print(userId_set.all())"
   ]
  },
  {
   "cell_type": "code",
   "execution_count": 80,
   "metadata": {
    "collapsed": true
   },
   "outputs": [
    {
     "data": {
      "text/plain": [
       "['__bytes__',\n '__class__',\n '__delattr__',\n '__dict__',\n '__dir__',\n '__doc__',\n '__eq__',\n '__format__',\n '__ge__',\n '__getattr__',\n '__getattribute__',\n '__getitem__',\n '__gt__',\n '__hash__',\n '__init__',\n '__iter__',\n '__le__',\n '__len__',\n '__lt__',\n '__module__',\n '__ne__',\n '__new__',\n '__reduce__',\n '__reduce_ex__',\n '__repr__',\n '__setattr__',\n '__sizeof__',\n '__str__',\n '__subclasshook__',\n '__unicode__',\n '__weakref__',\n '_agg_doc',\n '_aggregate',\n '_aggregate_generic',\n '_aggregate_item_by_item',\n '_aggregate_multiple_funcs',\n '_apply_filter',\n '_apply_to_column_groupbys',\n '_apply_whitelist',\n '_assure_grouper',\n '_block_agg_axis',\n '_builtin_table',\n '_choose_path',\n '_concat_objects',\n '_constructor',\n '_cumcount_array',\n '_cython_agg_blocks',\n '_cython_agg_general',\n '_cython_table',\n '_cython_transform',\n '_decide_output_index',\n '_def_str',\n '_define_paths',\n '_dir_additions',\n '_dir_deletions',\n '_get_data_to_aggregate',\n '_get_index',\n '_get_indices',\n '_gotitem',\n '_group_selection',\n '_index_with_as_index',\n '_insert_inaxis_grouper_inplace',\n '_internal_names',\n '_internal_names_set',\n '_is_builtin_func',\n '_is_cython_func',\n '_iterate_column_groupbys',\n '_iterate_slices',\n '_make_wrapper',\n '_obj_with_exclusions',\n '_post_process_cython_aggregate',\n '_python_agg_general',\n '_python_apply_general',\n '_reindex_output',\n '_reset_cache',\n '_see_also_template',\n '_selected_obj',\n '_selection',\n '_selection_list',\n '_set_result_index_ordered',\n '_set_selection_from_grouper',\n '_shallow_copy',\n '_transform_general',\n '_transform_item_by_item',\n '_try_cast',\n '_wrap_agged_blocks',\n '_wrap_aggregated_output',\n '_wrap_applied_output',\n '_wrap_generic_output',\n '_wrap_transformed_output',\n 'agg',\n 'aggregate',\n 'all',\n 'any',\n 'apply',\n 'backfill',\n 'bfill',\n 'boxplot',\n 'comment_count',\n 'content',\n 'corr',\n 'corrwith',\n 'count',\n 'cov',\n 'cumcount',\n 'cummax',\n 'cummin',\n 'cumprod',\n 'cumsum',\n 'datetime',\n 'describe',\n 'diff',\n 'dtypes',\n 'expanding',\n 'ffill',\n 'fillna',\n 'filter',\n 'first',\n 'forward_count',\n 'get_group',\n 'groups',\n 'head',\n 'hist',\n 'idxmax',\n 'idxmin',\n 'indices',\n 'irow',\n 'last',\n 'like_count',\n 'mad',\n 'max',\n 'mean',\n 'median',\n 'min',\n 'name',\n 'ndim',\n 'ngroups',\n 'nth',\n 'ohlc',\n 'pad',\n 'pct_change',\n 'plot',\n 'prod',\n 'quantile',\n 'rank',\n 'resample',\n 'rolling',\n 'sem',\n 'shift',\n 'size',\n 'skew',\n 'std',\n 'sum',\n 'tail',\n 'take',\n 'transform',\n 'tshift',\n 'userId',\n 'var',\n 'weiboId']"
      ]
     },
     "execution_count": 80,
     "metadata": {},
     "output_type": "execute_result"
    }
   ],
   "source": [
    "dir(userId_set)"
   ]
  },
  {
   "cell_type": "code",
   "execution_count": 94,
   "metadata": {
    "collapsed": true
   },
   "outputs": [],
   "source": [
    "userId_set2 = data_train.groupby(by=\"userId\",as_index=False,squeeze =True)"
   ]
  },
  {
   "cell_type": "code",
   "execution_count": 4,
   "metadata": {
    "collapsed": true
   },
   "outputs": [
    {
     "data": {
      "text/plain": [
       "userId                            forward_count  comment_count  like_count\n000127c6126e2b0019f255ed21ac1cb7  0              0              0               1\n                                  1              0              0               1\n0001565a5edece1669577e2ace9a6a3d  0              0              0              17\n                                                 1              0               4\n00033a6513b86b2705de9ffa9d37ffb6  0              0              0              57\n                                                                1               1\n0004fe2742507420eaa73e119dc83ac5  0              0              0              41\n                                                                1               2\n                                                 1              0               1\n                                  1              0              1               1\n                                  6              1              0               1\n000c663a24a2f91f4ba156fcd4f8b9f2  0              0              0              86\n                                                                1              12\n                                                                2               5\n                                                                3               1\n                                                                4               1\n                                                 1              0               5\n                                                                3               2\n                                                 2              0               2\n                                                                1               1\n                                                                2               1\n                                                 3              1               1\n                                                 4              0               1\n                                                                2               1\n                                                 7              1               1\n                                  1              0              0               1\n                                                                6               1\n000ce19d2fccb1f22421bec50bf25b08  0              0              0               1\n000d7bf7406392b2212dfb4fe907d946  0              0              0               7\n0012edb614365800e901c7f2b47e9129  0              0              0               6\n                                                                             ... \nffff3110aae05333d489d3707bee1d17  0              1              1               1\nffff39bf301adf32d06aae9dc70892fa  0              0              0              63\n                                                 1              0               2\n                                                                1               1\n                                                 2              0               1\n                                                 3              0               2\n                                                 4              0               1\n                                                 10             0               1\n                                  1              0              0               1\nffff5e493015a9240bd4d29de15ef55b  0              0              0             248\n                                                                1              28\n                                                                2               6\n                                                                4               1\n                                                 1              0               4\n                                                                1               4\n                                                 2              0              16\n                                                                1               1\n                                                                2               1\n                                                 3              0               4\n                                                                1               3\n                                                 4              0               7\n                                                 5              0               3\n                                                 6              0               2\n                                                                1               2\n                                                 15             0               1\n                                  1              0              0               3\n                                                 2              0               1\n                                                 3              1               1\n                                                 4              0               3\n                                                 9              0               1\ndtype: int64"
      ]
     },
     "execution_count": 4,
     "metadata": {},
     "output_type": "execute_result"
    }
   ],
   "source": [
    "groupbyall = data_train.groupby(['userId','forward_count','comment_count','like_count'])\n",
    "# header = ['userId','weiboId','datetime','forward_count','comment_count','like_count','content']\n",
    "groupbyall.size()"
   ]
  },
  {
   "cell_type": "code",
   "execution_count": 8,
   "metadata": {},
   "outputs": [],
   "source": [
    "groupbyall = data_train.groupby(by='userId').sum()"
   ]
  },
  {
   "cell_type": "code",
   "execution_count": 11,
   "metadata": {
    "collapsed": false
   },
   "outputs": [],
   "source": [
    "type(groupbyall)\n",
    "all = groupbyall['forward_count']+groupbyall['comment_count']+groupbyall['like_count']"
   ]
  },
  {
   "cell_type": "code",
   "execution_count": 14,
   "metadata": {},
   "outputs": [],
   "source": [
    "sumdata = pd.concat([groupbyall,pd.DataFrame(all)],axis=1)"
   ]
  },
  {
   "cell_type": "code",
   "execution_count": 18,
   "metadata": {
    "collapsed": true
   },
   "outputs": [
    {
     "data": {
      "text/plain": [
       "<bound method DataFrame.max of                                   forward_count  comment_count  like_count  \\\nuserId                                                                       \n000127c6126e2b0019f255ed21ac1cb7              1              0           0   \n0001565a5edece1669577e2ace9a6a3d              0              4           0   \n00033a6513b86b2705de9ffa9d37ffb6              0              0           1   \n0004fe2742507420eaa73e119dc83ac5              7              2           3   \n000c663a24a2f91f4ba156fcd4f8b9f2              2             33          48   \n000ce19d2fccb1f22421bec50bf25b08              0              0           0   \n000d7bf7406392b2212dfb4fe907d946              0              0           0   \n0012edb614365800e901c7f2b47e9129              0              4           0   \n001349a053bdecf1a71960f29288ced1              0              1           2   \n0015c42ec93854687a258a7f170c6acf              0              0           0   \n0018b27ecc1370e4208b6b2f175e6651              0              3           0   \n001d259734bccab73fdc373803c1fcd3             22             14          22   \n001d458a43e7fd1d9f8e2eba54d5d2fe              0              0           0   \n001e00fddab72bf7e6be3455e199904a              2              3           6   \n001fe802d7b8a3f5782b25acf0410440              0              0           0   \n00203b1aa005f8e374c1e681f5c2ba20              0              0           0   \n00212e7163d4aa64f2d7956a35027aa3              0              0           0   \n00218f81fb7713a915d74a1d44f95b0b              0              0           0   \n00235ea45eb587598e730a01e0c95435              0              0           0   \n0024afeb386597432b7fe0d0a4bd9520              0              0           0   \n0025fdc5741eb5afeeda3c90b8b35450              0              4           1   \n0026416dd4943c8b119896c1e824227b              0              0           0   \n0026bf3bb797997289aa4bd80d2965f6              0              0           0   \n002c120b0b15d1f749c8d07d54ea6420              0              7           7   \n002d3fc1ec528dcc11e7bab8ddc12ffd              0              0           0   \n002fffb6806ef6a0d9507d6038e11fce              0              3           2   \n0030024edee05cfcfd490fecb30ce8f8              0              0           0   \n0030649a18ba85357aa55953cd22c366              7              8          16   \n003242bfec263f03e8c7e8df606d961b              0              6           8   \n00366f1ae39b881bdb2ba8687a4c912a              0              0          16   \n...                                         ...            ...         ...   \nffdd80d2f1023779e30956c34b044b25              0              0           0   \nffdf0fa0ddbdaf8a519754c81a75975e              0              2           0   \nffdff3f1dbd16567f971a5a490c27e42              4            105          65   \nffe0b0a715858a0288a4507ea086f890              0              6           0   \nffe16c0d7b364919af58492f9e67b975              0              0           0   \nffe42732a2e7e1d039358065c1ca0b0f              0              0           0   \nffe43709a23926d8c67f2fd2b6b47484              0              2           0   \nffe56fb4917b43ab3264598abfeff9f7              0              1           0   \nffe71963fb7fa7851ee9b4e2c2ce72df              2              0           3   \nffe8cdf01ecb2f53994e9e9da3e67e2b              0              0           5   \nffe8dc72ef634638d7ddffb6dc79cb1b              0              0           1   \nffeaea408edaab9fd486aac63658824c              0              1           0   \nffebca57cf8bab67883d2db042b89fcf              0              0           4   \nffefb5e064e72ca10ab4372391c265ce            103            115          28   \nfff02e56b2bdd9d8da2877b42cdf2a3e              8             35          20   \nfff092ad59869987f022e62337c5efe5              1              1           1   \nfff25a31885431b3adf2540f066040d0              0              1           0   \nfff3b5b067b1e1671a8208f3c014430a              0              0           0   \nfff48bb93b55b8132df63dc6b3e6fc13              0              0           0   \nfff57978753d3b84e8427f1a9b0038fd              0              0           2   \nfff5fe2707a4209e4be3d03a024db2eb             82            216          86   \nfff67a9d6f8b2745a2cada662fc9c4a9            354             26          55   \nfff7d9e6a58934f7f40f23b67c4196b8              0              0           1   \nfff835220e94f8cd86790c43fba63122              1              2           4   \nfffb8f592e72d9faa20ca65119c0acc1              0              0           0   \nfffb96446162927dd6c69124f250bbf0              0              0           1   \nfffcc9de3131383d2c7111e2e15b740d              0              1           0   \nffff3110aae05333d489d3707bee1d17              0              2           1   \nffff39bf301adf32d06aae9dc70892fa              1             25           1   \nffff5e493015a9240bd4d29de15ef55b              9            173          57   \n\n                                    0  \nuserId                                 \n000127c6126e2b0019f255ed21ac1cb7    1  \n0001565a5edece1669577e2ace9a6a3d    4  \n00033a6513b86b2705de9ffa9d37ffb6    1  \n0004fe2742507420eaa73e119dc83ac5   12  \n000c663a24a2f91f4ba156fcd4f8b9f2   83  \n000ce19d2fccb1f22421bec50bf25b08    0  \n000d7bf7406392b2212dfb4fe907d946    0  \n0012edb614365800e901c7f2b47e9129    4  \n001349a053bdecf1a71960f29288ced1    3  \n0015c42ec93854687a258a7f170c6acf    0  \n0018b27ecc1370e4208b6b2f175e6651    3  \n001d259734bccab73fdc373803c1fcd3   58  \n001d458a43e7fd1d9f8e2eba54d5d2fe    0  \n001e00fddab72bf7e6be3455e199904a   11  \n001fe802d7b8a3f5782b25acf0410440    0  \n00203b1aa005f8e374c1e681f5c2ba20    0  \n00212e7163d4aa64f2d7956a35027aa3    0  \n00218f81fb7713a915d74a1d44f95b0b    0  \n00235ea45eb587598e730a01e0c95435    0  \n0024afeb386597432b7fe0d0a4bd9520    0  \n0025fdc5741eb5afeeda3c90b8b35450    5  \n0026416dd4943c8b119896c1e824227b    0  \n0026bf3bb797997289aa4bd80d2965f6    0  \n002c120b0b15d1f749c8d07d54ea6420   14  \n002d3fc1ec528dcc11e7bab8ddc12ffd    0  \n002fffb6806ef6a0d9507d6038e11fce    5  \n0030024edee05cfcfd490fecb30ce8f8    0  \n0030649a18ba85357aa55953cd22c366   31  \n003242bfec263f03e8c7e8df606d961b   14  \n00366f1ae39b881bdb2ba8687a4c912a   16  \n...                               ...  \nffdd80d2f1023779e30956c34b044b25    0  \nffdf0fa0ddbdaf8a519754c81a75975e    2  \nffdff3f1dbd16567f971a5a490c27e42  174  \nffe0b0a715858a0288a4507ea086f890    6  \nffe16c0d7b364919af58492f9e67b975    0  \nffe42732a2e7e1d039358065c1ca0b0f    0  \nffe43709a23926d8c67f2fd2b6b47484    2  \nffe56fb4917b43ab3264598abfeff9f7    1  \nffe71963fb7fa7851ee9b4e2c2ce72df    5  \nffe8cdf01ecb2f53994e9e9da3e67e2b    5  \nffe8dc72ef634638d7ddffb6dc79cb1b    1  \nffeaea408edaab9fd486aac63658824c    1  \nffebca57cf8bab67883d2db042b89fcf    4  \nffefb5e064e72ca10ab4372391c265ce  246  \nfff02e56b2bdd9d8da2877b42cdf2a3e   63  \nfff092ad59869987f022e62337c5efe5    3  \nfff25a31885431b3adf2540f066040d0    1  \nfff3b5b067b1e1671a8208f3c014430a    0  \nfff48bb93b55b8132df63dc6b3e6fc13    0  \nfff57978753d3b84e8427f1a9b0038fd    2  \nfff5fe2707a4209e4be3d03a024db2eb  384  \nfff67a9d6f8b2745a2cada662fc9c4a9  435  \nfff7d9e6a58934f7f40f23b67c4196b8    1  \nfff835220e94f8cd86790c43fba63122    7  \nfffb8f592e72d9faa20ca65119c0acc1    0  \nfffb96446162927dd6c69124f250bbf0    1  \nfffcc9de3131383d2c7111e2e15b740d    1  \nffff3110aae05333d489d3707bee1d17    3  \nffff39bf301adf32d06aae9dc70892fa   27  \nffff5e493015a9240bd4d29de15ef55b  239  \n\n[37251 rows x 4 columns]>"
      ]
     },
     "execution_count": 18,
     "metadata": {},
     "output_type": "execute_result"
    }
   ],
   "source": [
    "sumdata.max"
   ]
  },
  {
   "cell_type": "code",
   "execution_count": 32,
   "metadata": {
    "collapsed": true
   },
   "outputs": [
    {
     "name": "stdout",
     "output_type": "stream",
     "text": [
      "{'0004fe2742507420eaa73e119dc83ac5': [[1, 0, 1, 1], [1, 0, 1, 1]], '000127c6126e2b0019f255ed21ac1cb7': [[1, 0, 0, 1], [1, 0, 0, 1]], '0001565a5edece1669577e2ace9a6a3d': [[0, 1, 0, 4], [0, 1, 0, 4]], '00033a6513b86b2705de9ffa9d37ffb6': [[0, 0, 1, 1], [0, 0, 1, 1]]}\n{'000127c6126e2b0019f255ed21ac1cb7': [[1, 0, 0, 1], [1, 0, 0, 1]], '0001565a5edece1669577e2ace9a6a3d': [[0, 1, 0, 4], [0, 1, 0, 4]], '00033a6513b86b2705de9ffa9d37ffb6': [[0, 0, 1, 1], [0, 0, 1, 1]]}\n{'0004fe2742507420eaa73e119dc83ac5': [[1, 0, 1, 1], [1, 0, 1, 1]]}\n"
     ]
    }
   ],
   "source": [
    "items = groupbyall.size().items()\n",
    "unique_uid_fcl_set ={}\n",
    "j=0\n",
    "for i in items:\n",
    "    # print(i)\n",
    "    unique_uid_fcl_set[i[0][0]]=[[i[0][1],i[0][2],i[0][3],i[1]]]\n",
    "    unique_uid_fcl_set[i[0][0]].append([i[0][1],i[0][2],i[0][3],i[1]])\n",
    "    # print(i[0][0])\n",
    "    # print(i[0][1])\n",
    "    # print(i[0][2])\n",
    "    # print(i[0][3])\n",
    "    # print(i[1])\n",
    "    j+=1\n",
    "    if j ==10:\n",
    "        break\n",
    "print(unique_uid_fcl_set)\n",
    "# unique_uid_fcl_set[\"000127c6126e2b0019f255ed21ac1cb7\"][0]\n",
    "\n",
    "unique_uid_fcl_set1 ={}\n",
    "\n",
    "count=0\n",
    "for uid in unique_uid_fcl_set.keys():\n",
    "    count+=1\n",
    "    unique_uid_fcl_set1[uid]=unique_uid_fcl_set[uid]\n",
    "    unique_uid_fcl_set.pop(uid)\n",
    "    if count ==1:\n",
    "        break\n",
    "print(unique_uid_fcl_set)\n",
    "print(unique_uid_fcl_set1)"
   ]
  },
  {
   "cell_type": "code",
   "execution_count": 33,
   "metadata": {
    "collapsed": true
   },
   "outputs": [
    {
     "data": {
      "text/html": [
       "<div>\n",
       "<table border=\"1\" class=\"dataframe\">\n",
       "  <thead>\n",
       "    <tr style=\"text-align: right;\">\n",
       "      <th></th>\n",
       "      <th>userId</th>\n",
       "      <th>weiboId</th>\n",
       "      <th>datetime</th>\n",
       "      <th>forward_count</th>\n",
       "      <th>comment_count</th>\n",
       "      <th>like_count</th>\n",
       "      <th>content</th>\n",
       "    </tr>\n",
       "  </thead>\n",
       "  <tbody>\n",
       "    <tr>\n",
       "      <th>0</th>\n",
       "      <td>d38e9bed5d98110dc2489d0d1cac3c2a</td>\n",
       "      <td>7d45833d9865727a88b960b0603c19f6</td>\n",
       "      <td>2015-02-23 17:41:29</td>\n",
       "      <td>0</td>\n",
       "      <td>0</td>\n",
       "      <td>0</td>\n",
       "      <td>丽江旅游(sz002033)#股票##炒股##财经##理财##投资#推荐包赢股，盈利对半分成...</td>\n",
       "    </tr>\n",
       "    <tr>\n",
       "      <th>1</th>\n",
       "      <td>fa13974743d3fe6ff40d21b872325e9e</td>\n",
       "      <td>8169f1d45051e08ef213bf1106b1225d</td>\n",
       "      <td>2015-02-14 12:49:58</td>\n",
       "      <td>0</td>\n",
       "      <td>0</td>\n",
       "      <td>0</td>\n",
       "      <td>#丁辰灵的红包#挣钱是一种能力，抢红包拼的是技术。我抢到了丁辰灵 和@阚洪岩 一起发出的现金...</td>\n",
       "    </tr>\n",
       "  </tbody>\n",
       "</table>\n",
       "</div>"
      ],
      "text/plain": [
       "<div>\n",
       "<table border=\"1\" class=\"dataframe\">\n",
       "  <thead>\n",
       "    <tr style=\"text-align: right;\">\n",
       "      <th></th>\n",
       "      <th>userId</th>\n",
       "      <th>weiboId</th>\n",
       "      <th>datetime</th>\n",
       "      <th>forward_count</th>\n",
       "      <th>comment_count</th>\n",
       "      <th>like_count</th>\n",
       "      <th>content</th>\n",
       "    </tr>\n",
       "  </thead>\n",
       "  <tbody>\n",
       "    <tr>\n",
       "      <th>0</th>\n",
       "      <td>d38e9bed5d98110dc2489d0d1cac3c2a</td>\n",
       "      <td>7d45833d9865727a88b960b0603c19f6</td>\n",
       "      <td>2015-02-23 17:41:29</td>\n",
       "      <td>0</td>\n",
       "      <td>0</td>\n",
       "      <td>0</td>\n",
       "      <td>丽江旅游(sz002033)#股票##炒股##财经##理财##投资#推荐包赢股，盈利对半分成...</td>\n",
       "    </tr>\n",
       "    <tr>\n",
       "      <th>1</th>\n",
       "      <td>fa13974743d3fe6ff40d21b872325e9e</td>\n",
       "      <td>8169f1d45051e08ef213bf1106b1225d</td>\n",
       "      <td>2015-02-14 12:49:58</td>\n",
       "      <td>0</td>\n",
       "      <td>0</td>\n",
       "      <td>0</td>\n",
       "      <td>#丁辰灵的红包#挣钱是一种能力，抢红包拼的是技术。我抢到了丁辰灵 和@阚洪岩 一起发出的现金...</td>\n",
       "    </tr>\n",
       "  </tbody>\n",
       "</table>\n",
       "</div>"
      ]
     },
     "execution_count": 33,
     "metadata": {},
     "output_type": "execute_result"
    }
   ],
   "source": [
    ""
   ]
  },
  {
   "cell_type": "code",
   "execution_count": 19,
   "metadata": {
    "collapsed": false
   },
   "outputs": [
    {
     "data": {
      "text/plain": [
       "array([ 0.33333333,  0.66666667,  1.        ])"
      ]
     },
     "execution_count": 19,
     "metadata": {},
     "output_type": "execute_result"
    }
   ],
   "source": [
    "import numpy as np\n",
    "np.array([1,2,3])/3"
   ]
  },
  {
   "cell_type": "code",
   "execution_count": 8,
   "metadata": {
    "collapsed": true
   },
   "outputs": [
    {
     "data": {
      "text/plain": [
       "zip"
      ]
     },
     "execution_count": 8,
     "metadata": {},
     "output_type": "execute_result"
    }
   ],
   "source": [
    "groupbyall.size().values\n",
    "groupbyall.size().items\n",
    "type(groupbyall.size().items())"
   ]
  },
  {
   "cell_type": "code",
   "execution_count": 11,
   "metadata": {},
   "outputs": [],
   "source": [
    "groupbyall.size().values\n",
    "pd.Series(groupbyall.size().values).to_csv(r'D:\\\\www\\\\data\\\\Weibo Data\\\\Weibo Data\\\\weibo_train_data(new)\\\\groupbyall_num.txt', index=False, header=False)"
   ]
  },
  {
   "cell_type": "code",
   "execution_count": 8,
   "metadata": {},
   "outputs": [
    {
     "ename": "TypeError",
     "evalue": "'memoryview' object is not callable",
     "traceback": [
      "\u001b[0;31m---------------------------------------------------------------------------\u001b[0m",
      "\u001b[0;31mTypeError\u001b[0m                                 Traceback (most recent call last)",
      "\u001b[0;32m<ipython-input-8-f683c726ce12>\u001b[0m in \u001b[0;36m<module>\u001b[0;34m()\u001b[0m\n\u001b[0;32m----> 1\u001b[0;31m \u001b[0mitems2\u001b[0m \u001b[1;33m=\u001b[0m\u001b[0mgroupbyallSize\u001b[0m\u001b[1;33m.\u001b[0m\u001b[0mdata\u001b[0m\u001b[1;33m(\u001b[0m\u001b[1;33m)\u001b[0m\u001b[1;33m\u001b[0m\u001b[0m\n\u001b[0m\u001b[1;32m      2\u001b[0m \u001b[0mtype\u001b[0m\u001b[1;33m(\u001b[0m\u001b[0mitems2\u001b[0m\u001b[1;33m)\u001b[0m\u001b[1;33m\u001b[0m\u001b[0m\n",
      "\u001b[0;31mTypeError\u001b[0m: 'memoryview' object is not callable"
     ],
     "output_type": "error"
    }
   ],
   "source": [
    "items2 =groupbyallSize.data()\n",
    "type(items2)"
   ]
  },
  {
   "cell_type": "code",
   "execution_count": 5,
   "metadata": {
    "collapsed": true
   },
   "outputs": [
    {
     "data": {
      "text/html": [
       "<div>\n",
       "<table border=\"1\" class=\"dataframe\">\n",
       "  <thead>\n",
       "    <tr style=\"text-align: right;\">\n",
       "      <th></th>\n",
       "      <th>userId</th>\n",
       "      <th>forward_count</th>\n",
       "      <th>comment_count</th>\n",
       "      <th>like_count</th>\n",
       "    </tr>\n",
       "  </thead>\n",
       "  <tbody>\n",
       "    <tr>\n",
       "      <th>0</th>\n",
       "      <td>d38e9bed5d98110dc2489d0d1cac3c2a</td>\n",
       "      <td>0</td>\n",
       "      <td>0</td>\n",
       "      <td>0</td>\n",
       "    </tr>\n",
       "    <tr>\n",
       "      <th>1</th>\n",
       "      <td>fa13974743d3fe6ff40d21b872325e9e</td>\n",
       "      <td>0</td>\n",
       "      <td>0</td>\n",
       "      <td>0</td>\n",
       "    </tr>\n",
       "    <tr>\n",
       "      <th>2</th>\n",
       "      <td>da534fe87e7a52777bee5c30573ed5fd</td>\n",
       "      <td>0</td>\n",
       "      <td>0</td>\n",
       "      <td>0</td>\n",
       "    </tr>\n",
       "    <tr>\n",
       "      <th>3</th>\n",
       "      <td>e06a22b7e065e559a1f0bf7841a85c51</td>\n",
       "      <td>0</td>\n",
       "      <td>4</td>\n",
       "      <td>3</td>\n",
       "    </tr>\n",
       "    <tr>\n",
       "      <th>4</th>\n",
       "      <td>f9828598f9664d4e347ef2048ce17734</td>\n",
       "      <td>0</td>\n",
       "      <td>0</td>\n",
       "      <td>0</td>\n",
       "    </tr>\n",
       "    <tr>\n",
       "      <th>5</th>\n",
       "      <td>d80f3d3c5c1d658e82b837a4dd1af849</td>\n",
       "      <td>0</td>\n",
       "      <td>0</td>\n",
       "      <td>0</td>\n",
       "    </tr>\n",
       "    <tr>\n",
       "      <th>6</th>\n",
       "      <td>f349a67d1cd7c8683c5bbc5f8486e193</td>\n",
       "      <td>0</td>\n",
       "      <td>0</td>\n",
       "      <td>0</td>\n",
       "    </tr>\n",
       "    <tr>\n",
       "      <th>7</th>\n",
       "      <td>24b621c98f2594b698c0b1d60c9ae6db</td>\n",
       "      <td>0</td>\n",
       "      <td>0</td>\n",
       "      <td>0</td>\n",
       "    </tr>\n",
       "    <tr>\n",
       "      <th>8</th>\n",
       "      <td>e44d81d630e4f382f657e72aa4b685da</td>\n",
       "      <td>0</td>\n",
       "      <td>1</td>\n",
       "      <td>0</td>\n",
       "    </tr>\n",
       "    <tr>\n",
       "      <th>9</th>\n",
       "      <td>fbe6c953632e1b3dda66cf6118b6ab12</td>\n",
       "      <td>0</td>\n",
       "      <td>0</td>\n",
       "      <td>0</td>\n",
       "    </tr>\n",
       "    <tr>\n",
       "      <th>10</th>\n",
       "      <td>f9a3ca6bc1e75d173cfc98ec4b108072</td>\n",
       "      <td>21</td>\n",
       "      <td>2</td>\n",
       "      <td>6</td>\n",
       "    </tr>\n",
       "    <tr>\n",
       "      <th>11</th>\n",
       "      <td>3c68bbb9da57fcc752c8a493d91bdd3a</td>\n",
       "      <td>0</td>\n",
       "      <td>0</td>\n",
       "      <td>2</td>\n",
       "    </tr>\n",
       "    <tr>\n",
       "      <th>12</th>\n",
       "      <td>104e8d55e98eb3cd834810088af039fe</td>\n",
       "      <td>9</td>\n",
       "      <td>10</td>\n",
       "      <td>15</td>\n",
       "    </tr>\n",
       "    <tr>\n",
       "      <th>13</th>\n",
       "      <td>0d15005d6397fb5ce1d45e7c834f7370</td>\n",
       "      <td>0</td>\n",
       "      <td>0</td>\n",
       "      <td>0</td>\n",
       "    </tr>\n",
       "    <tr>\n",
       "      <th>14</th>\n",
       "      <td>875a4a77b339d93f819e2c4de5bd0b57</td>\n",
       "      <td>0</td>\n",
       "      <td>0</td>\n",
       "      <td>0</td>\n",
       "    </tr>\n",
       "    <tr>\n",
       "      <th>15</th>\n",
       "      <td>380a2219670f50dc87efce3380bea6e8</td>\n",
       "      <td>0</td>\n",
       "      <td>0</td>\n",
       "      <td>0</td>\n",
       "    </tr>\n",
       "    <tr>\n",
       "      <th>16</th>\n",
       "      <td>b9b88b0fc105fb08a552e782afa4342e</td>\n",
       "      <td>0</td>\n",
       "      <td>0</td>\n",
       "      <td>0</td>\n",
       "    </tr>\n",
       "    <tr>\n",
       "      <th>17</th>\n",
       "      <td>f18eb14365c0d7248fab1b9c464f4e70</td>\n",
       "      <td>0</td>\n",
       "      <td>0</td>\n",
       "      <td>0</td>\n",
       "    </tr>\n",
       "    <tr>\n",
       "      <th>18</th>\n",
       "      <td>0fc17bf5e2dc789dd48505df1f5b14fd</td>\n",
       "      <td>0</td>\n",
       "      <td>0</td>\n",
       "      <td>1</td>\n",
       "    </tr>\n",
       "    <tr>\n",
       "      <th>19</th>\n",
       "      <td>dd749a5af07c04ce7de451273a983671</td>\n",
       "      <td>0</td>\n",
       "      <td>0</td>\n",
       "      <td>0</td>\n",
       "    </tr>\n",
       "    <tr>\n",
       "      <th>20</th>\n",
       "      <td>a984551b159fcdc0a48f9e38ecb1488f</td>\n",
       "      <td>0</td>\n",
       "      <td>0</td>\n",
       "      <td>0</td>\n",
       "    </tr>\n",
       "    <tr>\n",
       "      <th>21</th>\n",
       "      <td>2e0467b73d0f6f9e5607a6174581fdd8</td>\n",
       "      <td>0</td>\n",
       "      <td>0</td>\n",
       "      <td>2</td>\n",
       "    </tr>\n",
       "    <tr>\n",
       "      <th>22</th>\n",
       "      <td>819656f05994b00b7260daf7346586a7</td>\n",
       "      <td>6</td>\n",
       "      <td>1</td>\n",
       "      <td>1</td>\n",
       "    </tr>\n",
       "    <tr>\n",
       "      <th>23</th>\n",
       "      <td>91ce7c63b272f2037a3e702c10163fa3</td>\n",
       "      <td>0</td>\n",
       "      <td>0</td>\n",
       "      <td>0</td>\n",
       "    </tr>\n",
       "    <tr>\n",
       "      <th>24</th>\n",
       "      <td>4680e73f9e7a6b87dec62a86a7821c17</td>\n",
       "      <td>0</td>\n",
       "      <td>0</td>\n",
       "      <td>0</td>\n",
       "    </tr>\n",
       "    <tr>\n",
       "      <th>25</th>\n",
       "      <td>976e85e3ededdd9b2c2a3179eb7ae8ab</td>\n",
       "      <td>0</td>\n",
       "      <td>0</td>\n",
       "      <td>0</td>\n",
       "    </tr>\n",
       "    <tr>\n",
       "      <th>26</th>\n",
       "      <td>6623347e5f19f35f2d02ad515b96524c</td>\n",
       "      <td>0</td>\n",
       "      <td>0</td>\n",
       "      <td>0</td>\n",
       "    </tr>\n",
       "    <tr>\n",
       "      <th>27</th>\n",
       "      <td>cf727e70b6661387cf6aadf01d2eb32c</td>\n",
       "      <td>0</td>\n",
       "      <td>0</td>\n",
       "      <td>0</td>\n",
       "    </tr>\n",
       "    <tr>\n",
       "      <th>28</th>\n",
       "      <td>de0836c1c5d40a5cae64a964a0b54894</td>\n",
       "      <td>0</td>\n",
       "      <td>0</td>\n",
       "      <td>1</td>\n",
       "    </tr>\n",
       "    <tr>\n",
       "      <th>29</th>\n",
       "      <td>c8848f18da5911d0389c3ac70fe13204</td>\n",
       "      <td>0</td>\n",
       "      <td>0</td>\n",
       "      <td>0</td>\n",
       "    </tr>\n",
       "    <tr>\n",
       "      <th>...</th>\n",
       "      <td>...</td>\n",
       "      <td>...</td>\n",
       "      <td>...</td>\n",
       "      <td>...</td>\n",
       "    </tr>\n",
       "    <tr>\n",
       "      <th>1224877</th>\n",
       "      <td>a0f9b45f8e4adf94f8be6099a15eaf1f</td>\n",
       "      <td>3</td>\n",
       "      <td>7</td>\n",
       "      <td>6</td>\n",
       "    </tr>\n",
       "    <tr>\n",
       "      <th>1224887</th>\n",
       "      <td>b96f28fb9b89f8d2a78eb11658c00601</td>\n",
       "      <td>0</td>\n",
       "      <td>1</td>\n",
       "      <td>0</td>\n",
       "    </tr>\n",
       "    <tr>\n",
       "      <th>1224888</th>\n",
       "      <td>20b094a09dafead40dfbb402a7b024ad</td>\n",
       "      <td>1</td>\n",
       "      <td>8</td>\n",
       "      <td>2</td>\n",
       "    </tr>\n",
       "    <tr>\n",
       "      <th>1224891</th>\n",
       "      <td>5f727484193f30885c7d516a945918b4</td>\n",
       "      <td>0</td>\n",
       "      <td>1</td>\n",
       "      <td>0</td>\n",
       "    </tr>\n",
       "    <tr>\n",
       "      <th>1224897</th>\n",
       "      <td>402856fdd67ce41b30b74225fd1437f7</td>\n",
       "      <td>16</td>\n",
       "      <td>9</td>\n",
       "      <td>5</td>\n",
       "    </tr>\n",
       "    <tr>\n",
       "      <th>1224905</th>\n",
       "      <td>432fc3267e9a55c40929eb877a5a0607</td>\n",
       "      <td>15</td>\n",
       "      <td>2</td>\n",
       "      <td>11</td>\n",
       "    </tr>\n",
       "    <tr>\n",
       "      <th>1224912</th>\n",
       "      <td>69beba48aac7d55ffc0849313963857a</td>\n",
       "      <td>245</td>\n",
       "      <td>14</td>\n",
       "      <td>18</td>\n",
       "    </tr>\n",
       "    <tr>\n",
       "      <th>1224937</th>\n",
       "      <td>84c81329db479bc528c06fcee71b22b8</td>\n",
       "      <td>0</td>\n",
       "      <td>7</td>\n",
       "      <td>1</td>\n",
       "    </tr>\n",
       "    <tr>\n",
       "      <th>1224946</th>\n",
       "      <td>f5d4c4b896640c872d605f6a28190f04</td>\n",
       "      <td>15</td>\n",
       "      <td>0</td>\n",
       "      <td>24</td>\n",
       "    </tr>\n",
       "    <tr>\n",
       "      <th>1224947</th>\n",
       "      <td>38a732663b4851dfe39177decb77b9a7</td>\n",
       "      <td>0</td>\n",
       "      <td>0</td>\n",
       "      <td>1</td>\n",
       "    </tr>\n",
       "    <tr>\n",
       "      <th>1224953</th>\n",
       "      <td>3046b7d60280ff0f59c48e18e3d0c3ab</td>\n",
       "      <td>0</td>\n",
       "      <td>0</td>\n",
       "      <td>0</td>\n",
       "    </tr>\n",
       "    <tr>\n",
       "      <th>1224954</th>\n",
       "      <td>bf0e60934d3acbbfc1e2551411601195</td>\n",
       "      <td>0</td>\n",
       "      <td>0</td>\n",
       "      <td>1</td>\n",
       "    </tr>\n",
       "    <tr>\n",
       "      <th>1224974</th>\n",
       "      <td>8f2ef5a300277c830884eae431d3e804</td>\n",
       "      <td>3</td>\n",
       "      <td>0</td>\n",
       "      <td>0</td>\n",
       "    </tr>\n",
       "    <tr>\n",
       "      <th>1224992</th>\n",
       "      <td>ac4e754e41c3f328f1bf18c7fc381511</td>\n",
       "      <td>134</td>\n",
       "      <td>6</td>\n",
       "      <td>73</td>\n",
       "    </tr>\n",
       "    <tr>\n",
       "      <th>1224994</th>\n",
       "      <td>044bacddf1ce2ca636aaf35d364c6c9f</td>\n",
       "      <td>397</td>\n",
       "      <td>82</td>\n",
       "      <td>13</td>\n",
       "    </tr>\n",
       "    <tr>\n",
       "      <th>1224995</th>\n",
       "      <td>a77f122d72e8ba93bb65ad9fa36f671d</td>\n",
       "      <td>23</td>\n",
       "      <td>3</td>\n",
       "      <td>2</td>\n",
       "    </tr>\n",
       "    <tr>\n",
       "      <th>1224999</th>\n",
       "      <td>52a5483e8d86bfdf05c244b9f7f614cf</td>\n",
       "      <td>4</td>\n",
       "      <td>12</td>\n",
       "      <td>2</td>\n",
       "    </tr>\n",
       "    <tr>\n",
       "      <th>1225003</th>\n",
       "      <td>233ac9a6d74bbad4a581159cb794a390</td>\n",
       "      <td>6</td>\n",
       "      <td>6</td>\n",
       "      <td>9</td>\n",
       "    </tr>\n",
       "    <tr>\n",
       "      <th>1225011</th>\n",
       "      <td>39d9a40e87e3873d8497a1025816e86e</td>\n",
       "      <td>0</td>\n",
       "      <td>1</td>\n",
       "      <td>3</td>\n",
       "    </tr>\n",
       "    <tr>\n",
       "      <th>1225012</th>\n",
       "      <td>3b62abfb4b379cc2730feda287f53050</td>\n",
       "      <td>51</td>\n",
       "      <td>11</td>\n",
       "      <td>43</td>\n",
       "    </tr>\n",
       "    <tr>\n",
       "      <th>1225015</th>\n",
       "      <td>ac4e754e41c3f328f1bf18c7fc381511</td>\n",
       "      <td>229</td>\n",
       "      <td>39</td>\n",
       "      <td>152</td>\n",
       "    </tr>\n",
       "    <tr>\n",
       "      <th>1225016</th>\n",
       "      <td>de0836c1c5d40a5cae64a964a0b54894</td>\n",
       "      <td>22</td>\n",
       "      <td>5</td>\n",
       "      <td>30</td>\n",
       "    </tr>\n",
       "    <tr>\n",
       "      <th>1225025</th>\n",
       "      <td>97bd1021bf3af076c61b7c261dc9a5b4</td>\n",
       "      <td>11</td>\n",
       "      <td>0</td>\n",
       "      <td>8</td>\n",
       "    </tr>\n",
       "    <tr>\n",
       "      <th>1225026</th>\n",
       "      <td>7606bd82ee19452ca620eeaf31db3775</td>\n",
       "      <td>0</td>\n",
       "      <td>1</td>\n",
       "      <td>2</td>\n",
       "    </tr>\n",
       "    <tr>\n",
       "      <th>1225036</th>\n",
       "      <td>6eea53203217dcd0373775a33dbc7348</td>\n",
       "      <td>30</td>\n",
       "      <td>4</td>\n",
       "      <td>29</td>\n",
       "    </tr>\n",
       "    <tr>\n",
       "      <th>1225060</th>\n",
       "      <td>ad186f661685139e3bab6665b4fe896d</td>\n",
       "      <td>93</td>\n",
       "      <td>4</td>\n",
       "      <td>23</td>\n",
       "    </tr>\n",
       "    <tr>\n",
       "      <th>1225064</th>\n",
       "      <td>a699f4a91c6033e8716eb4cae21def77</td>\n",
       "      <td>13</td>\n",
       "      <td>0</td>\n",
       "      <td>6</td>\n",
       "    </tr>\n",
       "    <tr>\n",
       "      <th>1225075</th>\n",
       "      <td>39442535ee18676a826ef92324bc14eb</td>\n",
       "      <td>192</td>\n",
       "      <td>11</td>\n",
       "      <td>15</td>\n",
       "    </tr>\n",
       "    <tr>\n",
       "      <th>1225079</th>\n",
       "      <td>34aecfff0b411aebf22f5348631af089</td>\n",
       "      <td>2</td>\n",
       "      <td>1</td>\n",
       "      <td>0</td>\n",
       "    </tr>\n",
       "    <tr>\n",
       "      <th>1225084</th>\n",
       "      <td>b98ca546114e9e6185c1b963b53f1ed4</td>\n",
       "      <td>0</td>\n",
       "      <td>2</td>\n",
       "      <td>0</td>\n",
       "    </tr>\n",
       "  </tbody>\n",
       "</table>\n",
       "<p>273911 rows × 4 columns</p>\n",
       "</div>"
      ],
      "text/plain": [
       "<div>\n",
       "<table border=\"1\" class=\"dataframe\">\n",
       "  <thead>\n",
       "    <tr style=\"text-align: right;\">\n",
       "      <th></th>\n",
       "      <th>userId</th>\n",
       "      <th>forward_count</th>\n",
       "      <th>comment_count</th>\n",
       "      <th>like_count</th>\n",
       "    </tr>\n",
       "  </thead>\n",
       "  <tbody>\n",
       "    <tr>\n",
       "      <th>0</th>\n",
       "      <td>d38e9bed5d98110dc2489d0d1cac3c2a</td>\n",
       "      <td>0</td>\n",
       "      <td>0</td>\n",
       "      <td>0</td>\n",
       "    </tr>\n",
       "    <tr>\n",
       "      <th>1</th>\n",
       "      <td>fa13974743d3fe6ff40d21b872325e9e</td>\n",
       "      <td>0</td>\n",
       "      <td>0</td>\n",
       "      <td>0</td>\n",
       "    </tr>\n",
       "    <tr>\n",
       "      <th>2</th>\n",
       "      <td>da534fe87e7a52777bee5c30573ed5fd</td>\n",
       "      <td>0</td>\n",
       "      <td>0</td>\n",
       "      <td>0</td>\n",
       "    </tr>\n",
       "    <tr>\n",
       "      <th>3</th>\n",
       "      <td>e06a22b7e065e559a1f0bf7841a85c51</td>\n",
       "      <td>0</td>\n",
       "      <td>4</td>\n",
       "      <td>3</td>\n",
       "    </tr>\n",
       "    <tr>\n",
       "      <th>4</th>\n",
       "      <td>f9828598f9664d4e347ef2048ce17734</td>\n",
       "      <td>0</td>\n",
       "      <td>0</td>\n",
       "      <td>0</td>\n",
       "    </tr>\n",
       "    <tr>\n",
       "      <th>5</th>\n",
       "      <td>d80f3d3c5c1d658e82b837a4dd1af849</td>\n",
       "      <td>0</td>\n",
       "      <td>0</td>\n",
       "      <td>0</td>\n",
       "    </tr>\n",
       "    <tr>\n",
       "      <th>6</th>\n",
       "      <td>f349a67d1cd7c8683c5bbc5f8486e193</td>\n",
       "      <td>0</td>\n",
       "      <td>0</td>\n",
       "      <td>0</td>\n",
       "    </tr>\n",
       "    <tr>\n",
       "      <th>7</th>\n",
       "      <td>24b621c98f2594b698c0b1d60c9ae6db</td>\n",
       "      <td>0</td>\n",
       "      <td>0</td>\n",
       "      <td>0</td>\n",
       "    </tr>\n",
       "    <tr>\n",
       "      <th>8</th>\n",
       "      <td>e44d81d630e4f382f657e72aa4b685da</td>\n",
       "      <td>0</td>\n",
       "      <td>1</td>\n",
       "      <td>0</td>\n",
       "    </tr>\n",
       "    <tr>\n",
       "      <th>9</th>\n",
       "      <td>fbe6c953632e1b3dda66cf6118b6ab12</td>\n",
       "      <td>0</td>\n",
       "      <td>0</td>\n",
       "      <td>0</td>\n",
       "    </tr>\n",
       "    <tr>\n",
       "      <th>10</th>\n",
       "      <td>f9a3ca6bc1e75d173cfc98ec4b108072</td>\n",
       "      <td>21</td>\n",
       "      <td>2</td>\n",
       "      <td>6</td>\n",
       "    </tr>\n",
       "    <tr>\n",
       "      <th>11</th>\n",
       "      <td>3c68bbb9da57fcc752c8a493d91bdd3a</td>\n",
       "      <td>0</td>\n",
       "      <td>0</td>\n",
       "      <td>2</td>\n",
       "    </tr>\n",
       "    <tr>\n",
       "      <th>12</th>\n",
       "      <td>104e8d55e98eb3cd834810088af039fe</td>\n",
       "      <td>9</td>\n",
       "      <td>10</td>\n",
       "      <td>15</td>\n",
       "    </tr>\n",
       "    <tr>\n",
       "      <th>13</th>\n",
       "      <td>0d15005d6397fb5ce1d45e7c834f7370</td>\n",
       "      <td>0</td>\n",
       "      <td>0</td>\n",
       "      <td>0</td>\n",
       "    </tr>\n",
       "    <tr>\n",
       "      <th>14</th>\n",
       "      <td>875a4a77b339d93f819e2c4de5bd0b57</td>\n",
       "      <td>0</td>\n",
       "      <td>0</td>\n",
       "      <td>0</td>\n",
       "    </tr>\n",
       "    <tr>\n",
       "      <th>15</th>\n",
       "      <td>380a2219670f50dc87efce3380bea6e8</td>\n",
       "      <td>0</td>\n",
       "      <td>0</td>\n",
       "      <td>0</td>\n",
       "    </tr>\n",
       "    <tr>\n",
       "      <th>16</th>\n",
       "      <td>b9b88b0fc105fb08a552e782afa4342e</td>\n",
       "      <td>0</td>\n",
       "      <td>0</td>\n",
       "      <td>0</td>\n",
       "    </tr>\n",
       "    <tr>\n",
       "      <th>17</th>\n",
       "      <td>f18eb14365c0d7248fab1b9c464f4e70</td>\n",
       "      <td>0</td>\n",
       "      <td>0</td>\n",
       "      <td>0</td>\n",
       "    </tr>\n",
       "    <tr>\n",
       "      <th>18</th>\n",
       "      <td>0fc17bf5e2dc789dd48505df1f5b14fd</td>\n",
       "      <td>0</td>\n",
       "      <td>0</td>\n",
       "      <td>1</td>\n",
       "    </tr>\n",
       "    <tr>\n",
       "      <th>19</th>\n",
       "      <td>dd749a5af07c04ce7de451273a983671</td>\n",
       "      <td>0</td>\n",
       "      <td>0</td>\n",
       "      <td>0</td>\n",
       "    </tr>\n",
       "    <tr>\n",
       "      <th>20</th>\n",
       "      <td>a984551b159fcdc0a48f9e38ecb1488f</td>\n",
       "      <td>0</td>\n",
       "      <td>0</td>\n",
       "      <td>0</td>\n",
       "    </tr>\n",
       "    <tr>\n",
       "      <th>21</th>\n",
       "      <td>2e0467b73d0f6f9e5607a6174581fdd8</td>\n",
       "      <td>0</td>\n",
       "      <td>0</td>\n",
       "      <td>2</td>\n",
       "    </tr>\n",
       "    <tr>\n",
       "      <th>22</th>\n",
       "      <td>819656f05994b00b7260daf7346586a7</td>\n",
       "      <td>6</td>\n",
       "      <td>1</td>\n",
       "      <td>1</td>\n",
       "    </tr>\n",
       "    <tr>\n",
       "      <th>23</th>\n",
       "      <td>91ce7c63b272f2037a3e702c10163fa3</td>\n",
       "      <td>0</td>\n",
       "      <td>0</td>\n",
       "      <td>0</td>\n",
       "    </tr>\n",
       "    <tr>\n",
       "      <th>24</th>\n",
       "      <td>4680e73f9e7a6b87dec62a86a7821c17</td>\n",
       "      <td>0</td>\n",
       "      <td>0</td>\n",
       "      <td>0</td>\n",
       "    </tr>\n",
       "    <tr>\n",
       "      <th>25</th>\n",
       "      <td>976e85e3ededdd9b2c2a3179eb7ae8ab</td>\n",
       "      <td>0</td>\n",
       "      <td>0</td>\n",
       "      <td>0</td>\n",
       "    </tr>\n",
       "    <tr>\n",
       "      <th>26</th>\n",
       "      <td>6623347e5f19f35f2d02ad515b96524c</td>\n",
       "      <td>0</td>\n",
       "      <td>0</td>\n",
       "      <td>0</td>\n",
       "    </tr>\n",
       "    <tr>\n",
       "      <th>27</th>\n",
       "      <td>cf727e70b6661387cf6aadf01d2eb32c</td>\n",
       "      <td>0</td>\n",
       "      <td>0</td>\n",
       "      <td>0</td>\n",
       "    </tr>\n",
       "    <tr>\n",
       "      <th>28</th>\n",
       "      <td>de0836c1c5d40a5cae64a964a0b54894</td>\n",
       "      <td>0</td>\n",
       "      <td>0</td>\n",
       "      <td>1</td>\n",
       "    </tr>\n",
       "    <tr>\n",
       "      <th>29</th>\n",
       "      <td>c8848f18da5911d0389c3ac70fe13204</td>\n",
       "      <td>0</td>\n",
       "      <td>0</td>\n",
       "      <td>0</td>\n",
       "    </tr>\n",
       "    <tr>\n",
       "      <th>...</th>\n",
       "      <td>...</td>\n",
       "      <td>...</td>\n",
       "      <td>...</td>\n",
       "      <td>...</td>\n",
       "    </tr>\n",
       "    <tr>\n",
       "      <th>1224877</th>\n",
       "      <td>a0f9b45f8e4adf94f8be6099a15eaf1f</td>\n",
       "      <td>3</td>\n",
       "      <td>7</td>\n",
       "      <td>6</td>\n",
       "    </tr>\n",
       "    <tr>\n",
       "      <th>1224887</th>\n",
       "      <td>b96f28fb9b89f8d2a78eb11658c00601</td>\n",
       "      <td>0</td>\n",
       "      <td>1</td>\n",
       "      <td>0</td>\n",
       "    </tr>\n",
       "    <tr>\n",
       "      <th>1224888</th>\n",
       "      <td>20b094a09dafead40dfbb402a7b024ad</td>\n",
       "      <td>1</td>\n",
       "      <td>8</td>\n",
       "      <td>2</td>\n",
       "    </tr>\n",
       "    <tr>\n",
       "      <th>1224891</th>\n",
       "      <td>5f727484193f30885c7d516a945918b4</td>\n",
       "      <td>0</td>\n",
       "      <td>1</td>\n",
       "      <td>0</td>\n",
       "    </tr>\n",
       "    <tr>\n",
       "      <th>1224897</th>\n",
       "      <td>402856fdd67ce41b30b74225fd1437f7</td>\n",
       "      <td>16</td>\n",
       "      <td>9</td>\n",
       "      <td>5</td>\n",
       "    </tr>\n",
       "    <tr>\n",
       "      <th>1224905</th>\n",
       "      <td>432fc3267e9a55c40929eb877a5a0607</td>\n",
       "      <td>15</td>\n",
       "      <td>2</td>\n",
       "      <td>11</td>\n",
       "    </tr>\n",
       "    <tr>\n",
       "      <th>1224912</th>\n",
       "      <td>69beba48aac7d55ffc0849313963857a</td>\n",
       "      <td>245</td>\n",
       "      <td>14</td>\n",
       "      <td>18</td>\n",
       "    </tr>\n",
       "    <tr>\n",
       "      <th>1224937</th>\n",
       "      <td>84c81329db479bc528c06fcee71b22b8</td>\n",
       "      <td>0</td>\n",
       "      <td>7</td>\n",
       "      <td>1</td>\n",
       "    </tr>\n",
       "    <tr>\n",
       "      <th>1224946</th>\n",
       "      <td>f5d4c4b896640c872d605f6a28190f04</td>\n",
       "      <td>15</td>\n",
       "      <td>0</td>\n",
       "      <td>24</td>\n",
       "    </tr>\n",
       "    <tr>\n",
       "      <th>1224947</th>\n",
       "      <td>38a732663b4851dfe39177decb77b9a7</td>\n",
       "      <td>0</td>\n",
       "      <td>0</td>\n",
       "      <td>1</td>\n",
       "    </tr>\n",
       "    <tr>\n",
       "      <th>1224953</th>\n",
       "      <td>3046b7d60280ff0f59c48e18e3d0c3ab</td>\n",
       "      <td>0</td>\n",
       "      <td>0</td>\n",
       "      <td>0</td>\n",
       "    </tr>\n",
       "    <tr>\n",
       "      <th>1224954</th>\n",
       "      <td>bf0e60934d3acbbfc1e2551411601195</td>\n",
       "      <td>0</td>\n",
       "      <td>0</td>\n",
       "      <td>1</td>\n",
       "    </tr>\n",
       "    <tr>\n",
       "      <th>1224974</th>\n",
       "      <td>8f2ef5a300277c830884eae431d3e804</td>\n",
       "      <td>3</td>\n",
       "      <td>0</td>\n",
       "      <td>0</td>\n",
       "    </tr>\n",
       "    <tr>\n",
       "      <th>1224992</th>\n",
       "      <td>ac4e754e41c3f328f1bf18c7fc381511</td>\n",
       "      <td>134</td>\n",
       "      <td>6</td>\n",
       "      <td>73</td>\n",
       "    </tr>\n",
       "    <tr>\n",
       "      <th>1224994</th>\n",
       "      <td>044bacddf1ce2ca636aaf35d364c6c9f</td>\n",
       "      <td>397</td>\n",
       "      <td>82</td>\n",
       "      <td>13</td>\n",
       "    </tr>\n",
       "    <tr>\n",
       "      <th>1224995</th>\n",
       "      <td>a77f122d72e8ba93bb65ad9fa36f671d</td>\n",
       "      <td>23</td>\n",
       "      <td>3</td>\n",
       "      <td>2</td>\n",
       "    </tr>\n",
       "    <tr>\n",
       "      <th>1224999</th>\n",
       "      <td>52a5483e8d86bfdf05c244b9f7f614cf</td>\n",
       "      <td>4</td>\n",
       "      <td>12</td>\n",
       "      <td>2</td>\n",
       "    </tr>\n",
       "    <tr>\n",
       "      <th>1225003</th>\n",
       "      <td>233ac9a6d74bbad4a581159cb794a390</td>\n",
       "      <td>6</td>\n",
       "      <td>6</td>\n",
       "      <td>9</td>\n",
       "    </tr>\n",
       "    <tr>\n",
       "      <th>1225011</th>\n",
       "      <td>39d9a40e87e3873d8497a1025816e86e</td>\n",
       "      <td>0</td>\n",
       "      <td>1</td>\n",
       "      <td>3</td>\n",
       "    </tr>\n",
       "    <tr>\n",
       "      <th>1225012</th>\n",
       "      <td>3b62abfb4b379cc2730feda287f53050</td>\n",
       "      <td>51</td>\n",
       "      <td>11</td>\n",
       "      <td>43</td>\n",
       "    </tr>\n",
       "    <tr>\n",
       "      <th>1225015</th>\n",
       "      <td>ac4e754e41c3f328f1bf18c7fc381511</td>\n",
       "      <td>229</td>\n",
       "      <td>39</td>\n",
       "      <td>152</td>\n",
       "    </tr>\n",
       "    <tr>\n",
       "      <th>1225016</th>\n",
       "      <td>de0836c1c5d40a5cae64a964a0b54894</td>\n",
       "      <td>22</td>\n",
       "      <td>5</td>\n",
       "      <td>30</td>\n",
       "    </tr>\n",
       "    <tr>\n",
       "      <th>1225025</th>\n",
       "      <td>97bd1021bf3af076c61b7c261dc9a5b4</td>\n",
       "      <td>11</td>\n",
       "      <td>0</td>\n",
       "      <td>8</td>\n",
       "    </tr>\n",
       "    <tr>\n",
       "      <th>1225026</th>\n",
       "      <td>7606bd82ee19452ca620eeaf31db3775</td>\n",
       "      <td>0</td>\n",
       "      <td>1</td>\n",
       "      <td>2</td>\n",
       "    </tr>\n",
       "    <tr>\n",
       "      <th>1225036</th>\n",
       "      <td>6eea53203217dcd0373775a33dbc7348</td>\n",
       "      <td>30</td>\n",
       "      <td>4</td>\n",
       "      <td>29</td>\n",
       "    </tr>\n",
       "    <tr>\n",
       "      <th>1225060</th>\n",
       "      <td>ad186f661685139e3bab6665b4fe896d</td>\n",
       "      <td>93</td>\n",
       "      <td>4</td>\n",
       "      <td>23</td>\n",
       "    </tr>\n",
       "    <tr>\n",
       "      <th>1225064</th>\n",
       "      <td>a699f4a91c6033e8716eb4cae21def77</td>\n",
       "      <td>13</td>\n",
       "      <td>0</td>\n",
       "      <td>6</td>\n",
       "    </tr>\n",
       "    <tr>\n",
       "      <th>1225075</th>\n",
       "      <td>39442535ee18676a826ef92324bc14eb</td>\n",
       "      <td>192</td>\n",
       "      <td>11</td>\n",
       "      <td>15</td>\n",
       "    </tr>\n",
       "    <tr>\n",
       "      <th>1225079</th>\n",
       "      <td>34aecfff0b411aebf22f5348631af089</td>\n",
       "      <td>2</td>\n",
       "      <td>1</td>\n",
       "      <td>0</td>\n",
       "    </tr>\n",
       "    <tr>\n",
       "      <th>1225084</th>\n",
       "      <td>b98ca546114e9e6185c1b963b53f1ed4</td>\n",
       "      <td>0</td>\n",
       "      <td>2</td>\n",
       "      <td>0</td>\n",
       "    </tr>\n",
       "  </tbody>\n",
       "</table>\n",
       "<p>273911 rows × 4 columns</p>\n",
       "</div>"
      ]
     },
     "execution_count": 5,
     "metadata": {},
     "output_type": "execute_result"
    }
   ],
   "source": [
    "drop_duplicates_byall = data_train[['userId','forward_count','comment_count','like_count']].drop_duplicates()\n",
    "drop_duplicates_byall"
   ]
  },
  {
   "cell_type": "code",
   "execution_count": 6,
   "metadata": {},
   "outputs": [
    {
     "data": {
      "text/html": [
       "<div>\n",
       "<table border=\"1\" class=\"dataframe\">\n",
       "  <thead>\n",
       "    <tr style=\"text-align: right;\">\n",
       "      <th></th>\n",
       "      <th>forward_count</th>\n",
       "      <th>comment_count</th>\n",
       "      <th>like_count</th>\n",
       "    </tr>\n",
       "  </thead>\n",
       "  <tbody>\n",
       "    <tr>\n",
       "      <th>forward_count</th>\n",
       "      <td>32352.672288</td>\n",
       "      <td>4215.781397</td>\n",
       "      <td>8621.924974</td>\n",
       "    </tr>\n",
       "    <tr>\n",
       "      <th>comment_count</th>\n",
       "      <td>4215.781397</td>\n",
       "      <td>1651.147773</td>\n",
       "      <td>2168.729474</td>\n",
       "    </tr>\n",
       "    <tr>\n",
       "      <th>like_count</th>\n",
       "      <td>8621.924974</td>\n",
       "      <td>2168.729474</td>\n",
       "      <td>7552.276501</td>\n",
       "    </tr>\n",
       "  </tbody>\n",
       "</table>\n",
       "</div>"
      ],
      "text/plain": [
       "<div>\n",
       "<table border=\"1\" class=\"dataframe\">\n",
       "  <thead>\n",
       "    <tr style=\"text-align: right;\">\n",
       "      <th></th>\n",
       "      <th>forward_count</th>\n",
       "      <th>comment_count</th>\n",
       "      <th>like_count</th>\n",
       "    </tr>\n",
       "  </thead>\n",
       "  <tbody>\n",
       "    <tr>\n",
       "      <th>forward_count</th>\n",
       "      <td>32352.672288</td>\n",
       "      <td>4215.781397</td>\n",
       "      <td>8621.924974</td>\n",
       "    </tr>\n",
       "    <tr>\n",
       "      <th>comment_count</th>\n",
       "      <td>4215.781397</td>\n",
       "      <td>1651.147773</td>\n",
       "      <td>2168.729474</td>\n",
       "    </tr>\n",
       "    <tr>\n",
       "      <th>like_count</th>\n",
       "      <td>8621.924974</td>\n",
       "      <td>2168.729474</td>\n",
       "      <td>7552.276501</td>\n",
       "    </tr>\n",
       "  </tbody>\n",
       "</table>\n",
       "</div>"
      ]
     },
     "execution_count": 6,
     "metadata": {},
     "output_type": "execute_result"
    }
   ],
   "source": [
    "drop_duplicates_byall_cov = drop_duplicates_byall.cov()\n",
    "drop_duplicates_byall_cov"
   ]
  },
  {
   "cell_type": "code",
   "execution_count": 7,
   "metadata": {},
   "outputs": [
    {
     "data": {
      "text/html": [
       "<div>\n",
       "<table border=\"1\" class=\"dataframe\">\n",
       "  <thead>\n",
       "    <tr style=\"text-align: right;\">\n",
       "      <th></th>\n",
       "      <th>forward_count</th>\n",
       "      <th>comment_count</th>\n",
       "      <th>like_count</th>\n",
       "    </tr>\n",
       "  </thead>\n",
       "  <tbody>\n",
       "    <tr>\n",
       "      <th>forward_count</th>\n",
       "      <td>1.000000</td>\n",
       "      <td>0.576806</td>\n",
       "      <td>0.551582</td>\n",
       "    </tr>\n",
       "    <tr>\n",
       "      <th>comment_count</th>\n",
       "      <td>0.576806</td>\n",
       "      <td>1.000000</td>\n",
       "      <td>0.614149</td>\n",
       "    </tr>\n",
       "    <tr>\n",
       "      <th>like_count</th>\n",
       "      <td>0.551582</td>\n",
       "      <td>0.614149</td>\n",
       "      <td>1.000000</td>\n",
       "    </tr>\n",
       "  </tbody>\n",
       "</table>\n",
       "</div>"
      ],
      "text/plain": [
       "<div>\n",
       "<table border=\"1\" class=\"dataframe\">\n",
       "  <thead>\n",
       "    <tr style=\"text-align: right;\">\n",
       "      <th></th>\n",
       "      <th>forward_count</th>\n",
       "      <th>comment_count</th>\n",
       "      <th>like_count</th>\n",
       "    </tr>\n",
       "  </thead>\n",
       "  <tbody>\n",
       "    <tr>\n",
       "      <th>forward_count</th>\n",
       "      <td>1.000000</td>\n",
       "      <td>0.576806</td>\n",
       "      <td>0.551582</td>\n",
       "    </tr>\n",
       "    <tr>\n",
       "      <th>comment_count</th>\n",
       "      <td>0.576806</td>\n",
       "      <td>1.000000</td>\n",
       "      <td>0.614149</td>\n",
       "    </tr>\n",
       "    <tr>\n",
       "      <th>like_count</th>\n",
       "      <td>0.551582</td>\n",
       "      <td>0.614149</td>\n",
       "      <td>1.000000</td>\n",
       "    </tr>\n",
       "  </tbody>\n",
       "</table>\n",
       "</div>"
      ]
     },
     "execution_count": 7,
     "metadata": {},
     "output_type": "execute_result"
    }
   ],
   "source": [
    "drop_duplicates_byall_corr = drop_duplicates_byall.corr()\n",
    "drop_duplicates_byall_corr"
   ]
  },
  {
   "cell_type": "code",
   "execution_count": 15,
   "metadata": {},
   "outputs": [
    {
     "data": {
      "text/plain": [
       "pandas.core.frame.DataFrame"
      ]
     },
     "execution_count": 15,
     "metadata": {},
     "output_type": "execute_result"
    }
   ],
   "source": [
    "type(drop_duplicates_byall)"
   ]
  },
  {
   "cell_type": "code",
   "execution_count": 36,
   "metadata": {},
   "outputs": [
    {
     "data": {
      "text/plain": [
       "pandas.core.groupby.DataFrameGroupBy"
      ]
     },
     "execution_count": 36,
     "metadata": {},
     "output_type": "execute_result"
    }
   ],
   "source": [
    "type(groupbyall)#pandas.core.groupby.DataFrameGroupBy"
   ]
  },
  {
   "cell_type": "code",
   "execution_count": 37,
   "metadata": {
    "collapsed": true
   },
   "outputs": [
    {
     "data": {
      "text/plain": [
       "['__bytes__',\n '__class__',\n '__delattr__',\n '__dict__',\n '__dir__',\n '__doc__',\n '__eq__',\n '__format__',\n '__ge__',\n '__getattr__',\n '__getattribute__',\n '__getitem__',\n '__gt__',\n '__hash__',\n '__init__',\n '__iter__',\n '__le__',\n '__len__',\n '__lt__',\n '__module__',\n '__ne__',\n '__new__',\n '__reduce__',\n '__reduce_ex__',\n '__repr__',\n '__setattr__',\n '__sizeof__',\n '__str__',\n '__subclasshook__',\n '__unicode__',\n '__weakref__',\n '_agg_doc',\n '_aggregate',\n '_aggregate_generic',\n '_aggregate_item_by_item',\n '_aggregate_multiple_funcs',\n '_apply_filter',\n '_apply_to_column_groupbys',\n '_apply_whitelist',\n '_assure_grouper',\n '_block_agg_axis',\n '_builtin_table',\n '_choose_path',\n '_concat_objects',\n '_constructor',\n '_cumcount_array',\n '_cython_agg_blocks',\n '_cython_agg_general',\n '_cython_table',\n '_cython_transform',\n '_decide_output_index',\n '_def_str',\n '_define_paths',\n '_dir_additions',\n '_dir_deletions',\n '_get_data_to_aggregate',\n '_get_index',\n '_get_indices',\n '_gotitem',\n '_group_selection',\n '_index_with_as_index',\n '_insert_inaxis_grouper_inplace',\n '_internal_names',\n '_internal_names_set',\n '_is_builtin_func',\n '_is_cython_func',\n '_iterate_column_groupbys',\n '_iterate_slices',\n '_make_wrapper',\n '_obj_with_exclusions',\n '_post_process_cython_aggregate',\n '_python_agg_general',\n '_python_apply_general',\n '_reindex_output',\n '_reset_cache',\n '_see_also_template',\n '_selected_obj',\n '_selection',\n '_selection_list',\n '_set_result_index_ordered',\n '_set_selection_from_grouper',\n '_shallow_copy',\n '_transform_general',\n '_transform_item_by_item',\n '_try_cast',\n '_wrap_agged_blocks',\n '_wrap_aggregated_output',\n '_wrap_applied_output',\n '_wrap_generic_output',\n '_wrap_transformed_output',\n 'agg',\n 'aggregate',\n 'all',\n 'any',\n 'apply',\n 'backfill',\n 'bfill',\n 'boxplot',\n 'comment_count',\n 'content',\n 'corr',\n 'corrwith',\n 'count',\n 'cov',\n 'cumcount',\n 'cummax',\n 'cummin',\n 'cumprod',\n 'cumsum',\n 'datetime',\n 'describe',\n 'diff',\n 'dtypes',\n 'expanding',\n 'ffill',\n 'fillna',\n 'filter',\n 'first',\n 'forward_count',\n 'get_group',\n 'groups',\n 'head',\n 'hist',\n 'idxmax',\n 'idxmin',\n 'indices',\n 'irow',\n 'last',\n 'like_count',\n 'mad',\n 'max',\n 'mean',\n 'median',\n 'min',\n 'name',\n 'ndim',\n 'ngroups',\n 'nth',\n 'ohlc',\n 'pad',\n 'pct_change',\n 'plot',\n 'prod',\n 'quantile',\n 'rank',\n 'resample',\n 'rolling',\n 'sem',\n 'shift',\n 'size',\n 'skew',\n 'std',\n 'sum',\n 'tail',\n 'take',\n 'transform',\n 'tshift',\n 'userId',\n 'var',\n 'weiboId']"
      ]
     },
     "execution_count": 37,
     "metadata": {},
     "output_type": "execute_result"
    }
   ],
   "source": [
    "dir(groupbyall)"
   ]
  },
  {
   "cell_type": "code",
   "execution_count": 9,
   "metadata": {
    "collapsed": true
   },
   "outputs": [
    {
     "data": {
      "text/plain": [
       "userId                            forward_count  comment_count  like_count\n000127c6126e2b0019f255ed21ac1cb7  0              0              0               1\n                                  1              0              0               1\n0001565a5edece1669577e2ace9a6a3d  0              0              0              17\n                                                 1              0               4\n00033a6513b86b2705de9ffa9d37ffb6  0              0              0              57\n                                                                1               1\n0004fe2742507420eaa73e119dc83ac5  0              0              0              41\n                                                                1               2\n                                                 1              0               1\n                                  1              0              1               1\n                                  6              1              0               1\n000c663a24a2f91f4ba156fcd4f8b9f2  0              0              0              86\n                                                                1              12\n                                                                2               5\n                                                                3               1\n                                                                4               1\n                                                 1              0               5\n                                                                3               2\n                                                 2              0               2\n                                                                1               1\n                                                                2               1\n                                                 3              1               1\n                                                 4              0               1\n                                                                2               1\n                                                 7              1               1\n                                  1              0              0               1\n                                                                6               1\n000ce19d2fccb1f22421bec50bf25b08  0              0              0               1\n000d7bf7406392b2212dfb4fe907d946  0              0              0               7\n0012edb614365800e901c7f2b47e9129  0              0              0               6\n                                                                             ... \nffff3110aae05333d489d3707bee1d17  0              1              1               1\nffff39bf301adf32d06aae9dc70892fa  0              0              0              63\n                                                 1              0               2\n                                                                1               1\n                                                 2              0               1\n                                                 3              0               2\n                                                 4              0               1\n                                                 10             0               1\n                                  1              0              0               1\nffff5e493015a9240bd4d29de15ef55b  0              0              0             248\n                                                                1              28\n                                                                2               6\n                                                                4               1\n                                                 1              0               4\n                                                                1               4\n                                                 2              0              16\n                                                                1               1\n                                                                2               1\n                                                 3              0               4\n                                                                1               3\n                                                 4              0               7\n                                                 5              0               3\n                                                 6              0               2\n                                                                1               2\n                                                 15             0               1\n                                  1              0              0               3\n                                                 2              0               1\n                                                 3              1               1\n                                                 4              0               3\n                                                 9              0               1\ndtype: int64"
      ]
     },
     "execution_count": 9,
     "metadata": {},
     "output_type": "execute_result"
    }
   ],
   "source": [
    "dir(groupbyall['userId'])\n",
    "groupbyall['userId'].size()"
   ]
  },
  {
   "cell_type": "code",
   "execution_count": 33,
   "metadata": {},
   "outputs": [
    {
     "data": {
      "text/plain": [
       "273911"
      ]
     },
     "execution_count": 33,
     "metadata": {},
     "output_type": "execute_result"
    }
   ],
   "source": [
    "len(groupbyall)"
   ]
  },
  {
   "cell_type": "code",
   "execution_count": 4,
   "metadata": {},
   "outputs": [],
   "source": [
    "groupbyallSize = groupbyall.size()"
   ]
  },
  {
   "cell_type": "code",
   "execution_count": 9,
   "metadata": {},
   "outputs": [
    {
     "data": {
      "text/plain": [
       "pandas.core.series.Series"
      ]
     },
     "execution_count": 9,
     "metadata": {},
     "output_type": "execute_result"
    }
   ],
   "source": [
    "type(groupbyallSize)"
   ]
  },
  {
   "cell_type": "code",
   "execution_count": 44,
   "metadata": {
    "collapsed": true
   },
   "outputs": [
    {
     "data": {
      "text/plain": [
       "['T',\n '_AXIS_ALIASES',\n '_AXIS_IALIASES',\n '_AXIS_LEN',\n '_AXIS_NAMES',\n '_AXIS_NUMBERS',\n '_AXIS_ORDERS',\n '_AXIS_REVERSED',\n '_AXIS_SLICEMAP',\n '__abs__',\n '__add__',\n '__and__',\n '__array__',\n '__array_prepare__',\n '__array_priority__',\n '__array_wrap__',\n '__bool__',\n '__bytes__',\n '__class__',\n '__contains__',\n '__delattr__',\n '__delitem__',\n '__dict__',\n '__dir__',\n '__div__',\n '__doc__',\n '__eq__',\n '__finalize__',\n '__float__',\n '__floordiv__',\n '__format__',\n '__ge__',\n '__getattr__',\n '__getattribute__',\n '__getitem__',\n '__getstate__',\n '__gt__',\n '__hash__',\n '__iadd__',\n '__imul__',\n '__init__',\n '__int__',\n '__invert__',\n '__ipow__',\n '__isub__',\n '__iter__',\n '__itruediv__',\n '__le__',\n '__len__',\n '__long__',\n '__lt__',\n '__mod__',\n '__module__',\n '__mul__',\n '__ne__',\n '__neg__',\n '__new__',\n '__nonzero__',\n '__or__',\n '__pow__',\n '__radd__',\n '__rand__',\n '__rdiv__',\n '__reduce__',\n '__reduce_ex__',\n '__repr__',\n '__rfloordiv__',\n '__rmod__',\n '__rmul__',\n '__ror__',\n '__round__',\n '__rpow__',\n '__rsub__',\n '__rtruediv__',\n '__rxor__',\n '__setattr__',\n '__setitem__',\n '__setstate__',\n '__sizeof__',\n '__str__',\n '__sub__',\n '__subclasshook__',\n '__truediv__',\n '__unicode__',\n '__weakref__',\n '__xor__',\n '_accessors',\n '_add_numeric_operations',\n '_add_series_only_operations',\n '_add_series_or_dataframe_operations',\n '_agg_by_level',\n '_align_frame',\n '_align_series',\n '_allow_index_ops',\n '_at',\n '_binop',\n '_box_item_values',\n '_can_hold_na',\n '_check_inplace_setting',\n '_check_is_chained_assignment_possible',\n '_check_percentile',\n '_check_setitem_copy',\n '_clear_item_cache',\n '_consolidate_inplace',\n '_construct_axes_dict',\n '_construct_axes_dict_for_slice',\n '_construct_axes_dict_from',\n '_construct_axes_from_arguments',\n '_constructor',\n '_constructor_expanddim',\n '_constructor_sliced',\n '_convert',\n '_create_indexer',\n '_dir_additions',\n '_dir_deletions',\n '_expand_axes',\n '_from_axes',\n '_get_axis',\n '_get_axis_name',\n '_get_axis_number',\n '_get_axis_resolvers',\n '_get_block_manager_axis',\n '_get_bool_data',\n '_get_cacher',\n '_get_index_resolvers',\n '_get_item_cache',\n '_get_numeric_data',\n '_get_repr',\n '_get_values',\n '_get_values_tuple',\n '_get_with',\n '_iat',\n '_iget_item_cache',\n '_iloc',\n '_index',\n '_indexed_same',\n '_info_axis',\n '_info_axis_name',\n '_info_axis_number',\n '_init_mgr',\n '_internal_names',\n '_internal_names_set',\n '_is_cached',\n '_is_datelike_mixed_type',\n '_is_mixed_type',\n '_is_numeric_mixed_type',\n '_is_view',\n '_ix',\n '_ixs',\n '_loc',\n '_make_cat_accessor',\n '_make_dt_accessor',\n '_make_str_accessor',\n '_maybe_cache_changed',\n '_maybe_update_cacher',\n '_metadata',\n '_needs_reindex_multi',\n '_protect_consolidate',\n '_reduce',\n '_reindex_axes',\n '_reindex_axis',\n '_reindex_indexer',\n '_reindex_multi',\n '_reindex_with_indexers',\n '_reset_cache',\n '_reset_cacher',\n '_set_as_cached',\n '_set_axis',\n '_set_axis_name',\n '_set_is_copy',\n '_set_item',\n '_set_labels',\n '_set_name',\n '_set_subtyp',\n '_set_values',\n '_set_with',\n '_set_with_engine',\n '_setup_axes',\n '_slice',\n '_stat_axis',\n '_stat_axis_name',\n '_stat_axis_number',\n '_typ',\n '_unpickle_series_compat',\n '_update_inplace',\n '_validate_dtype',\n '_values',\n '_xs',\n 'abs',\n 'add',\n 'add_prefix',\n 'add_suffix',\n 'align',\n 'all',\n 'any',\n 'append',\n 'apply',\n 'argmax',\n 'argmin',\n 'argsort',\n 'as_blocks',\n 'as_matrix',\n 'asfreq',\n 'asobject',\n 'asof',\n 'astype',\n 'at',\n 'at_time',\n 'autocorr',\n 'axes',\n 'base',\n 'between',\n 'between_time',\n 'bfill',\n 'blocks',\n 'bool',\n 'clip',\n 'clip_lower',\n 'clip_upper',\n 'combine',\n 'combine_first',\n 'compound',\n 'compress',\n 'consolidate',\n 'convert_objects',\n 'copy',\n 'corr',\n 'count',\n 'cov',\n 'cummax',\n 'cummin',\n 'cumprod',\n 'cumsum',\n 'data',\n 'describe',\n 'diff',\n 'div',\n 'divide',\n 'dot',\n 'drop',\n 'drop_duplicates',\n 'dropna',\n 'dtype',\n 'dtypes',\n 'duplicated',\n 'empty',\n 'eq',\n 'equals',\n 'ewm',\n 'expanding',\n 'factorize',\n 'ffill',\n 'fillna',\n 'filter',\n 'first',\n 'first_valid_index',\n 'flags',\n 'floordiv',\n 'from_array',\n 'from_csv',\n 'ftype',\n 'ftypes',\n 'ge',\n 'get',\n 'get_dtype_counts',\n 'get_ftype_counts',\n 'get_value',\n 'get_values',\n 'groupby',\n 'gt',\n 'hasnans',\n 'head',\n 'hist',\n 'iat',\n 'idxmax',\n 'idxmin',\n 'iget',\n 'iget_value',\n 'iloc',\n 'imag',\n 'index',\n 'interpolate',\n 'irow',\n 'is_copy',\n 'is_time_series',\n 'is_unique',\n 'isin',\n 'isnull',\n 'item',\n 'items',\n 'itemsize',\n 'iteritems',\n 'iterkv',\n 'ix',\n 'keys',\n 'kurt',\n 'kurtosis',\n 'last',\n 'last_valid_index',\n 'le',\n 'loc',\n 'lt',\n 'mad',\n 'map',\n 'mask',\n 'max',\n 'mean',\n 'median',\n 'memory_usage',\n 'min',\n 'mod',\n 'mode',\n 'mul',\n 'multiply',\n 'name',\n 'nbytes',\n 'ndim',\n 'ne',\n 'nlargest',\n 'nonzero',\n 'notnull',\n 'nsmallest',\n 'nunique',\n 'order',\n 'pct_change',\n 'pipe',\n 'plot',\n 'pop',\n 'pow',\n 'prod',\n 'product',\n 'ptp',\n 'put',\n 'quantile',\n 'radd',\n 'rank',\n 'ravel',\n 'rdiv',\n 'real',\n 'reindex',\n 'reindex_axis',\n 'reindex_like',\n 'rename',\n 'rename_axis',\n 'reorder_levels',\n 'repeat',\n 'replace',\n 'resample',\n 'reset_index',\n 'reshape',\n 'rfloordiv',\n 'rmod',\n 'rmul',\n 'rolling',\n 'round',\n 'rpow',\n 'rsub',\n 'rtruediv',\n 'sample',\n 'searchsorted',\n 'select',\n 'sem',\n 'set_axis',\n 'set_value',\n 'shape',\n 'shift',\n 'size',\n 'skew',\n 'slice_shift',\n 'sort',\n 'sort_index',\n 'sort_values',\n 'sortlevel',\n 'squeeze',\n 'std',\n 'strides',\n 'sub',\n 'subtract',\n 'sum',\n 'swapaxes',\n 'swaplevel',\n 'tail',\n 'take',\n 'to_clipboard',\n 'to_csv',\n 'to_dense',\n 'to_dict',\n 'to_frame',\n 'to_hdf',\n 'to_json',\n 'to_msgpack',\n 'to_period',\n 'to_pickle',\n 'to_sparse',\n 'to_sql',\n 'to_string',\n 'to_timestamp',\n 'to_xarray',\n 'tolist',\n 'transpose',\n 'truediv',\n 'truncate',\n 'tshift',\n 'tz_convert',\n 'tz_localize',\n 'unique',\n 'unstack',\n 'update',\n 'valid',\n 'value_counts',\n 'values',\n 'var',\n 'view',\n 'where',\n 'xs']"
      ]
     },
     "execution_count": 44,
     "metadata": {},
     "output_type": "execute_result"
    }
   ],
   "source": [
    "dir(groupbyallSize)"
   ]
  },
  {
   "cell_type": "code",
   "execution_count": 21,
   "metadata": {
    "collapsed": true
   },
   "outputs": [
    {
     "ename": "TypeError",
     "evalue": "'str' object is not callable",
     "traceback": [
      "\u001b[0;31m---------------------------------------------------------------------------\u001b[0m",
      "\u001b[0;31mTypeError\u001b[0m                                 Traceback (most recent call last)",
      "\u001b[0;32m<ipython-input-21-2fd780917be7>\u001b[0m in \u001b[0;36m<module>\u001b[0;34m()\u001b[0m\n\u001b[1;32m      1\u001b[0m \u001b[1;31m# groupbyall.size().to_frame().   (r'D:\\\\www\\\\data\\\\Weibo Data\\\\Weibo Data\\\\weibo_train_data(new)\\\\groupbyall.xls',sheet_name='Sheet1')\u001b[0m\u001b[1;33m\u001b[0m\u001b[1;33m\u001b[0m\u001b[0m\n\u001b[1;32m      2\u001b[0m \u001b[1;33m\u001b[0m\u001b[0m\n\u001b[0;32m----> 3\u001b[0;31m \u001b[0mgroupbyall\u001b[0m\u001b[1;33m.\u001b[0m\u001b[0mapply\u001b[0m\u001b[1;33m(\u001b[0m\u001b[1;34mr'D:\\\\www\\\\data\\\\Weibo Data\\\\Weibo Data\\\\weibo_train_data(new)\\\\groupbyall1.txt'\u001b[0m\u001b[1;33m,\u001b[0m\u001b[0msep\u001b[0m\u001b[1;33m=\u001b[0m\u001b[1;34m' '\u001b[0m\u001b[1;33m,\u001b[0m \u001b[0mindex\u001b[0m\u001b[1;33m=\u001b[0m\u001b[1;32mFalse\u001b[0m\u001b[1;33m,\u001b[0m \u001b[0mheader\u001b[0m\u001b[1;33m=\u001b[0m\u001b[1;32mFalse\u001b[0m\u001b[1;33m)\u001b[0m\u001b[1;33m\u001b[0m\u001b[0m\n\u001b[0m\u001b[1;32m      4\u001b[0m \u001b[1;31m# drop_duplicates_byall.to_csv(r'D:\\\\www\\\\data\\\\Weibo Data\\\\Weibo Data\\\\weibo_train_data(new)\\\\groupbyall.txt',sep=' ', index=False, header=False)\u001b[0m\u001b[1;33m\u001b[0m\u001b[1;33m\u001b[0m\u001b[0m\n\u001b[1;32m      5\u001b[0m \u001b[1;31m# drop_duplicates_byall.ix[:60000].to_excel(r'D:\\\\www\\\\data\\\\Weibo Data\\\\Weibo Data\\\\weibo_train_data(new)\\\\groupbyall.xls',sheet_name='Sheet1')\u001b[0m\u001b[1;33m\u001b[0m\u001b[1;33m\u001b[0m\u001b[0m\n",
      "\u001b[0;32md:\\Users\\Administrator\\Anaconda3\\lib\\site-packages\\pandas\\core\\groupby.py\u001b[0m in \u001b[0;36mapply\u001b[0;34m(self, func, *args, **kwargs)\u001b[0m\n\u001b[1;32m    649\u001b[0m         \u001b[1;31m# ignore SettingWithCopy here in case the user mutates\u001b[0m\u001b[1;33m\u001b[0m\u001b[1;33m\u001b[0m\u001b[0m\n\u001b[1;32m    650\u001b[0m         \u001b[1;32mwith\u001b[0m \u001b[0moption_context\u001b[0m\u001b[1;33m(\u001b[0m\u001b[1;34m'mode.chained_assignment'\u001b[0m\u001b[1;33m,\u001b[0m \u001b[1;32mNone\u001b[0m\u001b[1;33m)\u001b[0m\u001b[1;33m:\u001b[0m\u001b[1;33m\u001b[0m\u001b[0m\n\u001b[0;32m--> 651\u001b[0;31m             \u001b[1;32mreturn\u001b[0m \u001b[0mself\u001b[0m\u001b[1;33m.\u001b[0m\u001b[0m_python_apply_general\u001b[0m\u001b[1;33m(\u001b[0m\u001b[0mf\u001b[0m\u001b[1;33m)\u001b[0m\u001b[1;33m\u001b[0m\u001b[0m\n\u001b[0m\u001b[1;32m    652\u001b[0m \u001b[1;33m\u001b[0m\u001b[0m\n\u001b[1;32m    653\u001b[0m     \u001b[1;32mdef\u001b[0m \u001b[0m_python_apply_general\u001b[0m\u001b[1;33m(\u001b[0m\u001b[0mself\u001b[0m\u001b[1;33m,\u001b[0m \u001b[0mf\u001b[0m\u001b[1;33m)\u001b[0m\u001b[1;33m:\u001b[0m\u001b[1;33m\u001b[0m\u001b[0m\n",
      "\u001b[0;32md:\\Users\\Administrator\\Anaconda3\\lib\\site-packages\\pandas\\core\\groupby.py\u001b[0m in \u001b[0;36m_python_apply_general\u001b[0;34m(self, f)\u001b[0m\n\u001b[1;32m    653\u001b[0m     \u001b[1;32mdef\u001b[0m \u001b[0m_python_apply_general\u001b[0m\u001b[1;33m(\u001b[0m\u001b[0mself\u001b[0m\u001b[1;33m,\u001b[0m \u001b[0mf\u001b[0m\u001b[1;33m)\u001b[0m\u001b[1;33m:\u001b[0m\u001b[1;33m\u001b[0m\u001b[0m\n\u001b[1;32m    654\u001b[0m         keys, values, mutated = self.grouper.apply(f, self._selected_obj,\n\u001b[0;32m--> 655\u001b[0;31m                                                    self.axis)\n\u001b[0m\u001b[1;32m    656\u001b[0m \u001b[1;33m\u001b[0m\u001b[0m\n\u001b[1;32m    657\u001b[0m         return self._wrap_applied_output(\n",
      "\u001b[0;32md:\\Users\\Administrator\\Anaconda3\\lib\\site-packages\\pandas\\core\\groupby.py\u001b[0m in \u001b[0;36mapply\u001b[0;34m(self, f, data, axis)\u001b[0m\n\u001b[1;32m   1525\u001b[0m             \u001b[1;31m# group might be modified\u001b[0m\u001b[1;33m\u001b[0m\u001b[1;33m\u001b[0m\u001b[0m\n\u001b[1;32m   1526\u001b[0m             \u001b[0mgroup_axes\u001b[0m \u001b[1;33m=\u001b[0m \u001b[0m_get_axes\u001b[0m\u001b[1;33m(\u001b[0m\u001b[0mgroup\u001b[0m\u001b[1;33m)\u001b[0m\u001b[1;33m\u001b[0m\u001b[0m\n\u001b[0;32m-> 1527\u001b[0;31m             \u001b[0mres\u001b[0m \u001b[1;33m=\u001b[0m \u001b[0mf\u001b[0m\u001b[1;33m(\u001b[0m\u001b[0mgroup\u001b[0m\u001b[1;33m)\u001b[0m\u001b[1;33m\u001b[0m\u001b[0m\n\u001b[0m\u001b[1;32m   1528\u001b[0m             \u001b[1;32mif\u001b[0m \u001b[1;32mnot\u001b[0m \u001b[0m_is_indexed_like\u001b[0m\u001b[1;33m(\u001b[0m\u001b[0mres\u001b[0m\u001b[1;33m,\u001b[0m \u001b[0mgroup_axes\u001b[0m\u001b[1;33m)\u001b[0m\u001b[1;33m:\u001b[0m\u001b[1;33m\u001b[0m\u001b[0m\n\u001b[1;32m   1529\u001b[0m                 \u001b[0mmutated\u001b[0m \u001b[1;33m=\u001b[0m \u001b[1;32mTrue\u001b[0m\u001b[1;33m\u001b[0m\u001b[0m\n",
      "\u001b[0;32md:\\Users\\Administrator\\Anaconda3\\lib\\site-packages\\pandas\\core\\groupby.py\u001b[0m in \u001b[0;36mf\u001b[0;34m(g)\u001b[0m\n\u001b[1;32m    645\u001b[0m         \u001b[1;33m@\u001b[0m\u001b[0mwraps\u001b[0m\u001b[1;33m(\u001b[0m\u001b[0mfunc\u001b[0m\u001b[1;33m)\u001b[0m\u001b[1;33m\u001b[0m\u001b[0m\n\u001b[1;32m    646\u001b[0m         \u001b[1;32mdef\u001b[0m \u001b[0mf\u001b[0m\u001b[1;33m(\u001b[0m\u001b[0mg\u001b[0m\u001b[1;33m)\u001b[0m\u001b[1;33m:\u001b[0m\u001b[1;33m\u001b[0m\u001b[0m\n\u001b[0;32m--> 647\u001b[0;31m             \u001b[1;32mreturn\u001b[0m \u001b[0mfunc\u001b[0m\u001b[1;33m(\u001b[0m\u001b[0mg\u001b[0m\u001b[1;33m,\u001b[0m \u001b[1;33m*\u001b[0m\u001b[0margs\u001b[0m\u001b[1;33m,\u001b[0m \u001b[1;33m**\u001b[0m\u001b[0mkwargs\u001b[0m\u001b[1;33m)\u001b[0m\u001b[1;33m\u001b[0m\u001b[0m\n\u001b[0m\u001b[1;32m    648\u001b[0m \u001b[1;33m\u001b[0m\u001b[0m\n\u001b[1;32m    649\u001b[0m         \u001b[1;31m# ignore SettingWithCopy here in case the user mutates\u001b[0m\u001b[1;33m\u001b[0m\u001b[1;33m\u001b[0m\u001b[0m\n",
      "\u001b[0;31mTypeError\u001b[0m: 'str' object is not callable"
     ],
     "output_type": "error"
    }
   ],
   "source": [
    "# groupbyall.size().to_frame().   (r'D:\\\\www\\\\data\\\\Weibo Data\\\\Weibo Data\\\\weibo_train_data(new)\\\\groupbyall.xls',sheet_name='Sheet1')\n",
    "\n",
    "groupbyall.apply(r'D:\\\\www\\\\data\\\\Weibo Data\\\\Weibo Data\\\\weibo_train_data(new)\\\\groupbyall1.txt',sep=' ', index=False, header=False)\n",
    "# drop_duplicates_byall.to_csv(r'D:\\\\www\\\\data\\\\Weibo Data\\\\Weibo Data\\\\weibo_train_data(new)\\\\groupbyall.txt',sep=' ', index=False, header=False)\n",
    "# drop_duplicates_byall.ix[:60000].to_excel(r'D:\\\\www\\\\data\\\\Weibo Data\\\\Weibo Data\\\\weibo_train_data(new)\\\\groupbyall.xls',sheet_name='Sheet1')"
   ]
  },
  {
   "cell_type": "code",
   "execution_count": 8,
   "metadata": {
    "collapsed": true
   },
   "outputs": [
    {
     "name": "stdout",
     "output_type": "stream",
     "text": [
      "000127c6126e2b0019f255ed21ac1cb7\n"
     ]
    }
   ],
   "source": [
    ""
   ]
  },
  {
   "cell_type": "code",
   "execution_count": 68,
   "metadata": {
    "collapsed": true
   },
   "outputs": [
    {
     "name": "stdout",
     "output_type": "stream",
     "text": [
      "<pandas.core.groupby.SeriesGroupBy object at 0x000001572EA22BA8>\n"
     ]
    },
    {
     "data": {
      "text/plain": [
       "['__bytes__',\n '__class__',\n '__delattr__',\n '__dict__',\n '__dir__',\n '__doc__',\n '__eq__',\n '__format__',\n '__ge__',\n '__getattr__',\n '__getattribute__',\n '__getitem__',\n '__gt__',\n '__hash__',\n '__init__',\n '__iter__',\n '__le__',\n '__len__',\n '__lt__',\n '__module__',\n '__ne__',\n '__new__',\n '__reduce__',\n '__reduce_ex__',\n '__repr__',\n '__setattr__',\n '__sizeof__',\n '__str__',\n '__subclasshook__',\n '__unicode__',\n '__weakref__',\n '_agg_doc',\n '_aggregate',\n '_aggregate_multiple_funcs',\n '_aggregate_named',\n '_apply_filter',\n '_apply_to_column_groupbys',\n '_apply_whitelist',\n '_assure_grouper',\n '_builtin_table',\n '_concat_objects',\n '_constructor',\n '_cumcount_array',\n '_cython_agg_general',\n '_cython_table',\n '_cython_transform',\n '_def_str',\n '_dir_additions',\n '_dir_deletions',\n '_get_index',\n '_get_indices',\n '_gotitem',\n '_group_selection',\n '_index_with_as_index',\n '_internal_names',\n '_internal_names_set',\n '_is_builtin_func',\n '_is_cython_func',\n '_iterate_slices',\n '_make_wrapper',\n '_obj_with_exclusions',\n '_python_agg_general',\n '_python_apply_general',\n '_reset_cache',\n '_see_also_template',\n '_selected_obj',\n '_selection',\n '_selection_list',\n '_set_result_index_ordered',\n '_set_selection_from_grouper',\n '_shallow_copy',\n '_transform_fast',\n '_try_cast',\n '_wrap_aggregated_output',\n '_wrap_applied_output',\n '_wrap_output',\n '_wrap_transformed_output',\n 'agg',\n 'aggregate',\n 'all',\n 'any',\n 'apply',\n 'backfill',\n 'bfill',\n 'corr',\n 'count',\n 'cov',\n 'cumcount',\n 'cummax',\n 'cummin',\n 'cumprod',\n 'cumsum',\n 'describe',\n 'diff',\n 'dtype',\n 'expanding',\n 'ffill',\n 'fillna',\n 'filter',\n 'first',\n 'get_group',\n 'groups',\n 'head',\n 'hist',\n 'idxmax',\n 'idxmin',\n 'indices',\n 'irow',\n 'last',\n 'mad',\n 'max',\n 'mean',\n 'median',\n 'min',\n 'name',\n 'ndim',\n 'ngroups',\n 'nlargest',\n 'nsmallest',\n 'nth',\n 'nunique',\n 'ohlc',\n 'pad',\n 'pct_change',\n 'plot',\n 'prod',\n 'quantile',\n 'rank',\n 'resample',\n 'rolling',\n 'sem',\n 'shift',\n 'size',\n 'skew',\n 'std',\n 'str',\n 'sum',\n 'tail',\n 'take',\n 'transform',\n 'tshift',\n 'unique',\n 'value_counts',\n 'var']"
      ]
     },
     "execution_count": 68,
     "metadata": {},
     "output_type": "execute_result"
    }
   ],
   "source": [
    "a = userId_set.userId\n",
    "print(a)\n",
    "dir(a)\n",
    "# type(a)#pandas.core.groupby.SeriesGroupBy\n",
    "# a.value_counts"
   ]
  },
  {
   "cell_type": "code",
   "execution_count": 72,
   "metadata": {
    "collapsed": true
   },
   "outputs": [
    {
     "data": {
      "text/plain": [
       "pandas.core.frame.DataFrame"
      ]
     },
     "execution_count": 72,
     "metadata": {},
     "output_type": "execute_result"
    }
   ],
   "source": [
    "userId_set_all =userId_set.all()\n",
    "type(userId_set_all)"
   ]
  },
  {
   "cell_type": "code",
   "execution_count": 79,
   "metadata": {
    "collapsed": false
   },
   "outputs": [
    {
     "data": {
      "text/plain": [
       "list"
      ]
     },
     "execution_count": 79,
     "metadata": {},
     "output_type": "execute_result"
    }
   ],
   "source": [
    "userId_set_index = userId_set_all.index\n",
    "type (userId_set_index.tolist())\n",
    "# dir(userId_set_index)"
   ]
  },
  {
   "cell_type": "code",
   "execution_count": 28,
   "metadata": {},
   "outputs": [
    {
     "data": {
      "text/plain": [
       "pandas.core.groupby.SeriesGroupBy"
      ]
     },
     "execution_count": 28,
     "metadata": {},
     "output_type": "execute_result"
    }
   ],
   "source": [
    "userId_set1 = data_train.groupby(by=\"userId\")['userId']\n",
    "type(userId_set1)"
   ]
  },
  {
   "cell_type": "code",
   "execution_count": 31,
   "metadata": {
    "collapsed": false
   },
   "outputs": [],
   "source": [
    "userId_set.size().to_frame().to_excel(r'D:\\\\www\\\\data\\\\Weibo Data\\\\Weibo Data\\\\weibo_train_data(new)\\\\userId_count.xls',sheet_name='Sheet1')"
   ]
  }
 ],
 "metadata": {
  "kernelspec": {
   "display_name": "Python 2",
   "language": "python",
   "name": "python2"
  },
  "language_info": {
   "codemirror_mode": {
    "name": "ipython",
    "version": 2.0
   },
   "file_extension": ".py",
   "mimetype": "text/x-python",
   "name": "python",
   "nbconvert_exporter": "python",
   "pygments_lexer": "ipython2",
   "version": "2.7.6"
  }
 },
 "nbformat": 4,
 "nbformat_minor": 0
}