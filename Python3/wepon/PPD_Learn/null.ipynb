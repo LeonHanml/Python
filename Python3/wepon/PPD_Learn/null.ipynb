{
 "cells": [
  {
   "cell_type": "code",
   "execution_count": 1,
   "metadata": {
    "collapsed": true
   },
   "outputs": [
    {
     "name": "stdout",
     "output_type": "stream",
     "text": [
      "['WeblogInfo_1', 'WeblogInfo_2', 'WeblogInfo_3', 'WeblogInfo_4', 'WeblogInfo_5', 'WeblogInfo_6', 'WeblogInfo_7', 'WeblogInfo_8', 'WeblogInfo_9', 'WeblogInfo_10', 'WeblogInfo_11', 'WeblogInfo_12', 'WeblogInfo_13', 'WeblogInfo_14', 'WeblogInfo_15', 'WeblogInfo_16', 'WeblogInfo_17', 'WeblogInfo_18', 'UserInfo_10', 'UserInfo_18', 'WeblogInfo_23', 'WeblogInfo_24', 'WeblogInfo_25', 'WeblogInfo_26', 'WeblogInfo_27', 'WeblogInfo_28', 'WeblogInfo_29', 'WeblogInfo_30', 'WeblogInfo_31', 'WeblogInfo_32', 'WeblogInfo_33', 'WeblogInfo_34', 'WeblogInfo_35', 'WeblogInfo_36', 'WeblogInfo_37', 'WeblogInfo_38', 'WeblogInfo_39', 'WeblogInfo_40', 'WeblogInfo_41', 'WeblogInfo_42', 'WeblogInfo_43', 'WeblogInfo_44', 'WeblogInfo_45', 'WeblogInfo_46', 'WeblogInfo_47', 'WeblogInfo_48', 'WeblogInfo_49', 'WeblogInfo_50', 'WeblogInfo_51', 'WeblogInfo_52', 'WeblogInfo_53', 'WeblogInfo_54', 'WeblogInfo_55', 'WeblogInfo_56', 'WeblogInfo_57', 'WeblogInfo_58', 'ThirdParty_Info_Period1_1', 'ThirdParty_Info_Period1_2', 'ThirdParty_Info_Period1_3', 'ThirdParty_Info_Period1_4', 'ThirdParty_Info_Period1_5', 'ThirdParty_Info_Period1_6', 'ThirdParty_Info_Period1_7', 'ThirdParty_Info_Period1_8', 'ThirdParty_Info_Period1_9', 'ThirdParty_Info_Period1_10', 'ThirdParty_Info_Period1_11', 'ThirdParty_Info_Period1_12', 'ThirdParty_Info_Period1_13', 'ThirdParty_Info_Period1_14', 'ThirdParty_Info_Period1_15', 'ThirdParty_Info_Period1_16', 'ThirdParty_Info_Period1_17', 'ThirdParty_Info_Period2_1', 'ThirdParty_Info_Period2_2', 'ThirdParty_Info_Period2_3', 'ThirdParty_Info_Period2_4', 'ThirdParty_Info_Period2_5', 'ThirdParty_Info_Period2_6', 'ThirdParty_Info_Period2_7', 'ThirdParty_Info_Period2_8', 'ThirdParty_Info_Period2_9', 'ThirdParty_Info_Period2_10', 'ThirdParty_Info_Period2_11', 'ThirdParty_Info_Period2_12', 'ThirdParty_Info_Period2_13', 'ThirdParty_Info_Period2_14', 'ThirdParty_Info_Period2_15', 'ThirdParty_Info_Period2_16', 'ThirdParty_Info_Period2_17', 'ThirdParty_Info_Period3_1', 'ThirdParty_Info_Period3_2', 'ThirdParty_Info_Period3_3', 'ThirdParty_Info_Period3_4', 'ThirdParty_Info_Period3_5', 'ThirdParty_Info_Period3_6', 'ThirdParty_Info_Period3_7', 'ThirdParty_Info_Period3_8', 'ThirdParty_Info_Period3_9', 'ThirdParty_Info_Period3_10', 'ThirdParty_Info_Period3_11', 'ThirdParty_Info_Period3_12', 'ThirdParty_Info_Period3_13', 'ThirdParty_Info_Period3_14', 'ThirdParty_Info_Period3_15', 'ThirdParty_Info_Period3_16', 'ThirdParty_Info_Period3_17', 'ThirdParty_Info_Period4_1', 'ThirdParty_Info_Period4_2', 'ThirdParty_Info_Period4_3', 'ThirdParty_Info_Period4_4', 'ThirdParty_Info_Period4_5', 'ThirdParty_Info_Period4_6', 'ThirdParty_Info_Period4_7', 'ThirdParty_Info_Period4_8', 'ThirdParty_Info_Period4_9', 'ThirdParty_Info_Period4_10', 'ThirdParty_Info_Period4_11', 'ThirdParty_Info_Period4_12', 'ThirdParty_Info_Period4_13', 'ThirdParty_Info_Period4_14', 'ThirdParty_Info_Period4_15', 'ThirdParty_Info_Period4_16', 'ThirdParty_Info_Period4_17', 'ThirdParty_Info_Period5_1', 'ThirdParty_Info_Period5_2', 'ThirdParty_Info_Period5_3', 'ThirdParty_Info_Period5_4', 'ThirdParty_Info_Period5_5', 'ThirdParty_Info_Period5_6', 'ThirdParty_Info_Period5_7', 'ThirdParty_Info_Period5_8', 'ThirdParty_Info_Period5_9', 'ThirdParty_Info_Period5_10', 'ThirdParty_Info_Period5_11', 'ThirdParty_Info_Period5_12', 'ThirdParty_Info_Period5_13', 'ThirdParty_Info_Period5_14', 'ThirdParty_Info_Period5_15', 'ThirdParty_Info_Period5_16', 'ThirdParty_Info_Period5_17', 'ThirdParty_Info_Period6_1', 'ThirdParty_Info_Period6_2', 'ThirdParty_Info_Period6_3', 'ThirdParty_Info_Period6_4', 'ThirdParty_Info_Period6_5', 'ThirdParty_Info_Period6_6', 'ThirdParty_Info_Period6_7', 'ThirdParty_Info_Period6_8', 'ThirdParty_Info_Period6_9', 'ThirdParty_Info_Period6_10', 'ThirdParty_Info_Period6_11', 'ThirdParty_Info_Period6_12', 'ThirdParty_Info_Period6_13', 'ThirdParty_Info_Period6_14', 'ThirdParty_Info_Period6_15', 'ThirdParty_Info_Period6_16', 'ThirdParty_Info_Period6_17', 'ThirdParty_Info_Period7_1', 'ThirdParty_Info_Period7_2', 'ThirdParty_Info_Period7_3', 'ThirdParty_Info_Period7_4', 'ThirdParty_Info_Period7_5', 'ThirdParty_Info_Period7_6', 'ThirdParty_Info_Period7_7', 'ThirdParty_Info_Period7_8', 'ThirdParty_Info_Period7_9', 'ThirdParty_Info_Period7_10', 'ThirdParty_Info_Period7_11', 'ThirdParty_Info_Period7_12', 'ThirdParty_Info_Period7_13', 'ThirdParty_Info_Period7_14', 'ThirdParty_Info_Period7_15', 'ThirdParty_Info_Period7_16', 'ThirdParty_Info_Period7_17', 'SocialNetwork_3', 'SocialNetwork_4', 'SocialNetwork_5', 'SocialNetwork_6', 'SocialNetwork_8', 'SocialNetwork_9', 'SocialNetwork_10', 'SocialNetwork_11', 'SocialNetwork_13', 'SocialNetwork_14', 'SocialNetwork_15', 'SocialNetwork_16', 'SocialNetwork_17', 'target', 'ListingInfo']\n"
     ]
    }
   ],
   "source": [
    "import pandas as pd\n",
    "feature_type = pd.read_excel('feature_type.xlsx')\n",
    "feature_type.columns = ['feature','type']\n",
    "numerical_feature = list(feature_type[feature_type.type=='Numerical']['feature'])\n",
    "print(numerical_feature)\n",
    "numerical_feature.remove('target')\n",
    "numerical_feature.remove('ListingInfo')"
   ]
  },
  {
   "cell_type": "code",
   "execution_count": 3,
   "metadata": {},
   "outputs": [],
   "source": [
    "train_x = pd.read_csv('PPD-First-Round-Data-Update\\\\Training Set/PPD_Training_Master_GBK_3_1_Training_Set.csv',encoding='gbk')[['Idx','target']+numerical_feature]\n",
    "train_x.fillna(-1,inplace=True)"
   ]
  },
  {
   "cell_type": "code",
   "execution_count": 5,
   "metadata": {
    "collapsed": true
   },
   "outputs": [
    {
     "data": {
      "text/plain": [
       "Index(['Idx', 'target', 'WeblogInfo_1', 'WeblogInfo_2', 'WeblogInfo_3',\n       'WeblogInfo_4', 'WeblogInfo_5', 'WeblogInfo_6', 'WeblogInfo_7',\n       'WeblogInfo_8',\n       ...\n       'SocialNetwork_6', 'SocialNetwork_8', 'SocialNetwork_9',\n       'SocialNetwork_10', 'SocialNetwork_11', 'SocialNetwork_13',\n       'SocialNetwork_14', 'SocialNetwork_15', 'SocialNetwork_16',\n       'SocialNetwork_17'],\n      dtype='object', length=190)"
      ]
     },
     "execution_count": 5,
     "metadata": {},
     "output_type": "execute_result"
    }
   ],
   "source": [
    "train_x.columns"
   ]
  },
  {
   "cell_type": "code",
   "execution_count": 6,
   "metadata": {},
   "outputs": [],
   "source": [
    "train_x['n_null'] = (train_x<0).sum(axis=1)"
   ]
  },
  {
   "cell_type": "code",
   "execution_count": 10,
   "metadata": {
    "collapsed": true
   },
   "outputs": [
    {
     "data": {
      "text/plain": [
       "0        100\n1         86\n2         92\n3         92\n4         60\n5         95\n6         81\n7         18\n8        101\n9         81\n10       103\n11        88\n12        90\n13        82\n14        84\n15       120\n16       107\n17       108\n18        84\n19       106\n20        99\n21        94\n22       102\n23        63\n24       106\n25       113\n26       103\n27        86\n28        81\n29        87\n        ... \n29970     97\n29971     90\n29972     91\n29973     95\n29974    114\n29975     93\n29976     73\n29977     63\n29978     87\n29979    103\n29980     77\n29981     70\n29982    101\n29983     85\n29984    100\n29985     83\n29986     81\n29987     79\n29988     80\n29989    115\n29990    107\n29991    107\n29992     79\n29993     86\n29994     63\n29995     81\n29996     82\n29997     92\n29998     92\n29999     86\ndtype: int64"
      ]
     },
     "execution_count": 10,
     "metadata": {},
     "output_type": "execute_result"
    }
   ],
   "source": [
    "(train_x>0).sum(axis=1)"
   ]
  },
  {
   "cell_type": "code",
   "execution_count": 12,
   "metadata": {
    "collapsed": false
   },
   "outputs": [],
   "source": [
    "train_missing_gt100= train_x[train_x.n_null>100]\n",
    "train_missing_gt100\n",
    "train_missing_gt100[['Idx','n_null','target']].to_csv('PPD-First-Round-Data-Update\\\\Training Set/train_missing_gt100.csv',index=None)"
   ]
  },
  {
   "cell_type": "code",
   "execution_count": 13,
   "metadata": {},
   "outputs": [],
   "source": [
    "train_x = pd.read_csv('PPD-First-Round-Data-Update\\\\Training Set/PPD_Training_Master_GBK_3_1_Training_Set.csv',encoding='gb18030')\n",
    "train_x.fillna(-1,inplace=True)\n",
    "test_x = pd.read_csv('D:\\\\www\\\\data\\\\kesci-paipai\\\\PPD-Second-Round-Data(en)\\\\second round test data/Kesci_Master_9w_gbk_1_test_set.csv',encoding='gb18030')\n",
    "test_x.fillna(-1,inplace=True)\n",
    "train_x['n_null'] = (train_x<0).sum(axis=1)\n",
    "test_x['n_null'] = (test_x<0).sum(axis=1)"
   ]
  },
  {
   "cell_type": "code",
   "execution_count": 15,
   "metadata": {
    "collapsed": true
   },
   "outputs": [
    {
     "name": "stderr",
     "output_type": "stream",
     "text": [
      "d:\\Users\\Administrator\\Anaconda3\\lib\\site-packages\\ipykernel\\__main__.py:2: SettingWithCopyWarning: \nA value is trying to be set on a copy of a slice from a DataFrame\n\nSee the caveats in the documentation: http://pandas.pydata.org/pandas-docs/stable/indexing.html#indexing-view-versus-copy\n  from ipykernel import kernelapp as app\nd:\\Users\\Administrator\\Anaconda3\\lib\\site-packages\\ipykernel\\__main__.py:3: SettingWithCopyWarning: \nA value is trying to be set on a copy of a slice from a DataFrame\n\nSee the caveats in the documentation: http://pandas.pydata.org/pandas-docs/stable/indexing.html#indexing-view-versus-copy\n  app.launch_new_instance()\nd:\\Users\\Administrator\\Anaconda3\\lib\\site-packages\\ipykernel\\__main__.py:4: SettingWithCopyWarning: \nA value is trying to be set on a copy of a slice from a DataFrame\n\nSee the caveats in the documentation: http://pandas.pydata.org/pandas-docs/stable/indexing.html#indexing-view-versus-copy\nd:\\Users\\Administrator\\Anaconda3\\lib\\site-packages\\ipykernel\\__main__.py:5: SettingWithCopyWarning: \nA value is trying to be set on a copy of a slice from a DataFrame\n\nSee the caveats in the documentation: http://pandas.pydata.org/pandas-docs/stable/indexing.html#indexing-view-versus-copy\n"
     ]
    },
    {
     "name": "stderr",
     "output_type": "stream",
     "text": [
      "d:\\Users\\Administrator\\Anaconda3\\lib\\site-packages\\ipykernel\\__main__.py:6: SettingWithCopyWarning: \nA value is trying to be set on a copy of a slice from a DataFrame\n\nSee the caveats in the documentation: http://pandas.pydata.org/pandas-docs/stable/indexing.html#indexing-view-versus-copy\nd:\\Users\\Administrator\\Anaconda3\\lib\\site-packages\\ipykernel\\__main__.py:10: SettingWithCopyWarning: \nA value is trying to be set on a copy of a slice from a DataFrame\n\nSee the caveats in the documentation: http://pandas.pydata.org/pandas-docs/stable/indexing.html#indexing-view-versus-copy\n"
     ]
    },
    {
     "name": "stderr",
     "output_type": "stream",
     "text": [
      "d:\\Users\\Administrator\\Anaconda3\\lib\\site-packages\\ipykernel\\__main__.py:11: SettingWithCopyWarning: \nA value is trying to be set on a copy of a slice from a DataFrame\n\nSee the caveats in the documentation: http://pandas.pydata.org/pandas-docs/stable/indexing.html#indexing-view-versus-copy\nd:\\Users\\Administrator\\Anaconda3\\lib\\site-packages\\ipykernel\\__main__.py:12: SettingWithCopyWarning: \nA value is trying to be set on a copy of a slice from a DataFrame\n\nSee the caveats in the documentation: http://pandas.pydata.org/pandas-docs/stable/indexing.html#indexing-view-versus-copy\nd:\\Users\\Administrator\\Anaconda3\\lib\\site-packages\\ipykernel\\__main__.py:13: SettingWithCopyWarning: \nA value is trying to be set on a copy of a slice from a DataFrame\n\nSee the caveats in the documentation: http://pandas.pydata.org/pandas-docs/stable/indexing.html#indexing-view-versus-copy\nd:\\Users\\Administrator\\Anaconda3\\lib\\site-packages\\ipykernel\\__main__.py:14: SettingWithCopyWarning: \nA value is trying to be set on a copy of a slice from a DataFrame\n\nSee the caveats in the documentation: http://pandas.pydata.org/pandas-docs/stable/indexing.html#indexing-view-versus-copy\n"
     ]
    }
   ],
   "source": [
    "train_x['discret_null'] = train_x.n_null\n",
    "train_x.discret_null[train_x.discret_null<=24] = 1\n",
    "train_x.discret_null[(train_x.discret_null>24)&(train_x.discret_null<=34)] = 2\n",
    "train_x.discret_null[(train_x.discret_null>34)&(train_x.discret_null<=46)] = 3\n",
    "train_x.discret_null[(train_x.discret_null>46)&(train_x.discret_null<=51)] = 4\n",
    "train_x.discret_null[(train_x.discret_null>51)] = 5\n",
    "train_x[['Idx','n_null','discret_null']].to_csv('PPD-First-Round-Data-Update\\\\Training Set/train_x_null.csv',index=None)\n",
    "\n",
    "test_x['discret_null'] = test_x.n_null\n",
    "test_x.discret_null[test_x.discret_null<=24] = 1\n",
    "test_x.discret_null[(test_x.discret_null>24)&(test_x.discret_null<=34)] = 2\n",
    "test_x.discret_null[(test_x.discret_null>34)&(test_x.discret_null<=46)] = 3\n",
    "test_x.discret_null[(test_x.discret_null>46)&(test_x.discret_null<=51)] = 4\n",
    "test_x.discret_null[(test_x.discret_null>51)] = 5\n",
    "test_x[['Idx','n_null','discret_null']].to_csv('PPD-First-Round-Data-Update\\\\Test Set/test_x_null.csv',index=None)"
   ]
  },
  {
   "cell_type": "code",
   "execution_count": null,
   "metadata": {},
   "outputs": [],
   "source": [
    ""
   ]
  }
 ],
 "metadata": {
  "kernelspec": {
   "display_name": "Python 2",
   "language": "python",
   "name": "python2"
  },
  "language_info": {
   "codemirror_mode": {
    "name": "ipython",
    "version": 2.0
   },
   "file_extension": ".py",
   "mimetype": "text/x-python",
   "name": "python",
   "nbconvert_exporter": "python",
   "pygments_lexer": "ipython2",
   "version": "2.7.6"
  }
 },
 "nbformat": 4,
 "nbformat_minor": 0
}